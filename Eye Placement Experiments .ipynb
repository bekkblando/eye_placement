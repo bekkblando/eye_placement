{
 "cells": [
  {
   "cell_type": "code",
   "execution_count": 42,
   "metadata": {},
   "outputs": [],
   "source": [
    "from IPython.display import HTML\n",
    "from matplotlib import animation, rc\n",
    "from math import pi, cos, sin\n",
    "%matplotlib inline"
   ]
  },
  {
   "cell_type": "code",
   "execution_count": 8,
   "metadata": {},
   "outputs": [],
   "source": [
    "# Constants\n",
    "SAFE_ZONE = -1\n",
    "PRED = 1\n",
    "PREY = 2"
   ]
  },
  {
   "cell_type": "code",
   "execution_count": 9,
   "metadata": {},
   "outputs": [],
   "source": [
    "# Create Eye Class\n",
    "class Eye:\n",
    "    def __init__(self, arclength):\n",
    "        self.eye_arclength = arclength\n",
    "        # Height of the triangle\n",
    "        self.direction = 8\n",
    "        self.width = 6\n",
    "        self.area = (self.direction * self.width)/2"
   ]
  },
  {
   "cell_type": "code",
   "execution_count": 10,
   "metadata": {},
   "outputs": [],
   "source": [
    "new_eye = Eye(pi/2)\n",
    "assert new_eye.area == 24"
   ]
  },
  {
   "cell_type": "code",
   "execution_count": 11,
   "metadata": {},
   "outputs": [],
   "source": [
    "# Create Grid\n",
    "class Grid:\n",
    "    def __init__(self):\n",
    "        self.x_axis = 100\n",
    "        self.y_axis = 100\n",
    "    \n",
    "    def print(self):\n",
    "        print(grid)\n",
    "    \n",
    "    def valid_move(self, x, y):\n",
    "        return(x > 0 and y > 0 and x + 1 <= self.x_axis and y + 1 <= self.y_axis)"
   ]
  },
  {
   "cell_type": "markdown",
   "metadata": {},
   "source": [
    "A few problems to think about\n",
    "\n",
    "How do I control where the eyes are located\n",
    "How do I tell the direction the animal is facing\n",
    "How do I allow the animal to move in relation to the direction its facing\n",
    "\n",
    "Instead of doing a matrix format of the grid I'm going to do where the grid itself is just two numbers that represent the dimensions. The animal will operate in midpoints on movement.\n",
    "Example:\n",
    "\n",
    "Let location = [.5, .5]\n",
    "\n",
    "If the animal moves left the value will be [1.5, .5]\n",
    "\n",
    "The animal will also have a front point that will act to tell its direction.\n",
    "The front point is an angle in relation to the x-axis.\n",
    "\n",
    "Example:\n",
    "Let front = PI\n",
    "To calculate the front point we can then do cos(PI), sin(PI)\n",
    "\n",
    "The eyes of the animal will be an arclength away from the front point.\n",
    "Let front = PI\n",
    "eye1_arclength = .5\n",
    "\n",
    "Since the animal is essentially a unit circle:\n",
    "front_arc_length = PI\n",
    "eye1_arclength = PI + .5\n",
    "\n",
    "Finding the point of the eye is then trivial\n",
    "cos(eye1_arclength) + location[0], sin(eye1_arclength) + location[1]\n",
    "\n",
    "Then looking is just a matter of building a triangle from the eye and finding if anything lies within it's area\n",
    "\n",
    "\n",
    "The grid needs to know about all the animals so that it can tell when the game should be over. The grid is going to ask the animals for there location check and check for a winner at the end of each move"
   ]
  },
  {
   "cell_type": "code",
   "execution_count": 12,
   "metadata": {},
   "outputs": [],
   "source": [
    "# Create Agent Action Class\n",
    "class Animal:\n",
    "    def __init__(self, Eye):\n",
    "        self.location = [.5,.5]\n",
    "        self.direction_angle = (3*pi)/2\n",
    "        # Eye Arc Lengths\n",
    "        self.eyes = [Eye(-(pi/2)), Eye(pi/2)]\n",
    "        \n",
    "    # Returns tuples of ordered pairs for the location of the eyes\n",
    "    def calc_eyes(self):\n",
    "        # Calculate the position for an eye and return a tuple of the coordinates\n",
    "        def calc_eye(eye):\n",
    "            x = cos(abs(self.direction_angle + self.eye[0])) + self.location[0]\n",
    "            y = sin(abs(self.direction_angle + self.eye[0])) + self.location[1]\n",
    "            return((x, y))\n",
    "        return(list(map(calc_eye, [eyes.arc_length for eye in eyes])))\n",
    "         \n",
    "    # The animal is allowed to turn it's body in any direction\n",
    "    def turn(self, angle):\n",
    "        self.direction_angle = (self.direction_angle + angle) % (2*pi)\n",
    "\n",
    "    # The animal is allowed to move 1 in any direction\n",
    "    def move(self, grid, angle):\n",
    "        x = cos(angle) + self.location[0]\n",
    "        y = sin(angle) + self.location[1]\n",
    "        if(grid.valid_move(x, y)):\n",
    "            self.location[0] = x\n",
    "            self.location[1] = y\n",
    "            return True\n",
    "        return False\n",
    "    \n",
    "#     # Look\n",
    "#     def look():\n",
    "#         for eye in calc_eyes():\n",
    "            "
   ]
  },
  {
   "cell_type": "code",
   "execution_count": 13,
   "metadata": {},
   "outputs": [],
   "source": [
    "# Tests\n",
    "firstGrid = Grid()\n",
    "pred = Animal(Eye)\n",
    "\n",
    "# The animal turns correctly\n",
    "pred.turn(pi)\n",
    "assert pred.direction_angle == pi/2\n",
    "# The animal moves correctly\n",
    "pred.move(firstGrid, 2*pi)\n",
    "assert pred.location[0] == cos(2*pi) + .5"
   ]
  },
  {
   "cell_type": "code",
   "execution_count": 14,
   "metadata": {},
   "outputs": [
    {
     "ename": "IndentationError",
     "evalue": "expected an indented block (<ipython-input-14-3ab1b4e0f241>, line 12)",
     "output_type": "error",
     "traceback": [
      "\u001b[0;36m  File \u001b[0;32m\"<ipython-input-14-3ab1b4e0f241>\"\u001b[0;36m, line \u001b[0;32m12\u001b[0m\n\u001b[0;31m    def look(self, eye):\u001b[0m\n\u001b[0m      ^\u001b[0m\n\u001b[0;31mIndentationError\u001b[0m\u001b[0;31m:\u001b[0m expected an indented block\n"
     ]
    }
   ],
   "source": [
    "# Sim Control\n",
    "class simulation_control():\n",
    "    def __init__(self, Grid, Animal):\n",
    "        self.grid = Grid()\n",
    "        self.animals = [Animal(), Animal()]\n",
    "        # Set the iterations\n",
    "        self.iterations = 500\n",
    "    \n",
    "    def turn(self, animal):\n",
    "        \n",
    "    \n",
    "    def look(self, eye):\n",
    "        eye.area\n",
    "        for animal in self.animals:\n",
    "            \n",
    "            \n",
    "        \n",
    "    \n",
    "    def start_sim():\n",
    "        # Run the iterations\n",
    "        for iteration in self.iterations:\n",
    "            for animal in self.animals:\n",
    "                self.turn(animal)\n",
    "            \n",
    "        "
   ]
  },
  {
   "cell_type": "code",
   "execution_count": 1,
   "metadata": {},
   "outputs": [
    {
     "ename": "NameError",
     "evalue": "name 'simulation_control' is not defined",
     "output_type": "error",
     "traceback": [
      "\u001b[0;31m---------------------------------------------------------------------------\u001b[0m",
      "\u001b[0;31mNameError\u001b[0m                                 Traceback (most recent call last)",
      "\u001b[0;32m<ipython-input-1-52678821a9ba>\u001b[0m in \u001b[0;36m<module>\u001b[0;34m()\u001b[0m\n\u001b[0;32m----> 1\u001b[0;31m \u001b[0msim_control\u001b[0m \u001b[0;34m=\u001b[0m \u001b[0msimulation_control\u001b[0m\u001b[0;34m(\u001b[0m\u001b[0mGrid\u001b[0m\u001b[0;34m,\u001b[0m \u001b[0mAnimal\u001b[0m\u001b[0;34m)\u001b[0m\u001b[0;34m\u001b[0m\u001b[0m\n\u001b[0m",
      "\u001b[0;31mNameError\u001b[0m: name 'simulation_control' is not defined"
     ]
    }
   ],
   "source": [
    "sim_control = simulation_control(Grid, Animal)"
   ]
  },
  {
   "cell_type": "code",
   "execution_count": 11,
   "metadata": {
    "collapsed": true
   },
   "outputs": [],
   "source": [
    "# Create Predater Value Function"
   ]
  },
  {
   "cell_type": "code",
   "execution_count": null,
   "metadata": {
    "collapsed": true
   },
   "outputs": [],
   "source": [
    "# Create Prery Value Function"
   ]
  }
 ],
 "metadata": {
  "kernelspec": {
   "display_name": "Python 3",
   "language": "python",
   "name": "python3"
  },
  "language_info": {
   "codemirror_mode": {
    "name": "ipython",
    "version": 3
   },
   "file_extension": ".py",
   "mimetype": "text/x-python",
   "name": "python",
   "nbconvert_exporter": "python",
   "pygments_lexer": "ipython3",
   "version": "3.4.3"
  }
 },
 "nbformat": 4,
 "nbformat_minor": 1
}
