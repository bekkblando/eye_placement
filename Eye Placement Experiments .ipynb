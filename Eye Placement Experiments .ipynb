{
 "cells": [
  {
   "cell_type": "code",
   "execution_count": 201,
   "metadata": {},
   "outputs": [],
   "source": [
    "from IPython.display import HTML\n",
    "from matplotlib import animation, rc\n",
    "from math import pi, cos, sin, acos, asin, atan2, sqrt\n",
    "import numpy as np\n",
    "from numpy import linalg as LA\n",
    "import random\n",
    "%matplotlib inline"
   ]
  },
  {
   "cell_type": "code",
   "execution_count": 286,
   "metadata": {},
   "outputs": [],
   "source": [
    "# Constants\n",
    "SAFE_ZONE = -1\n",
    "PRED = \"PRED\"\n",
    "PREY = \"PREY\""
   ]
  },
  {
   "cell_type": "code",
   "execution_count": 309,
   "metadata": {},
   "outputs": [],
   "source": [
    "# TODO Def can redesign the simulation to be more intutive with current functionality. Some game paradigms would be really helpful here\n",
    "# as opposed to all the vector calc\n",
    "# TODO So this is basically eye placement within a monty carlo simulation. I need to talk to an ecology person to get\n",
    "# some ideas on actual animal behavior"
   ]
  },
  {
   "cell_type": "code",
   "execution_count": 490,
   "metadata": {},
   "outputs": [],
   "source": [
    "# Create Eye Class\n",
    "class Eye:\n",
    "    def __init__(self, eye_arclength):\n",
    "        # Height of the triangle\n",
    "        self.direction = 8\n",
    "        self.width = 6\n",
    "        self.area = (self.direction * self.width)/2\n",
    "        self.eye_arclength = eye_arclength"
   ]
  },
  {
   "cell_type": "code",
   "execution_count": 491,
   "metadata": {},
   "outputs": [],
   "source": [
    "new_eye = Eye(pi/2)\n",
    "assert new_eye.area == 24"
   ]
  },
  {
   "cell_type": "code",
   "execution_count": 492,
   "metadata": {},
   "outputs": [],
   "source": [
    "# Create Grid\n",
    "class Grid:\n",
    "    def __init__(self):\n",
    "        self.x_axis = 100\n",
    "        self.y_axis = 100\n",
    "    \n",
    "    def print(self):\n",
    "        print(grid)\n",
    "    \n",
    "    def valid_move(self, x, y):\n",
    "        return(x > 0 and y > 0 and x + 1 <= self.x_axis and y + 1 <= self.y_axis)"
   ]
  },
  {
   "cell_type": "markdown",
   "metadata": {},
   "source": [
    "A few problems to think about\n",
    "\n",
    "How do I control where the eyes are located\n",
    "How do I tell the direction the animal is facing\n",
    "How do I allow the animal to move in relation to the direction its facing\n",
    "\n",
    "Instead of doing a matrix format of the grid I'm going to do where the grid itself is just two numbers that represent the dimensions. The animal will operate in midpoints on movement.\n",
    "Example:\n",
    "\n",
    "Let location = [.5, .5]\n",
    "\n",
    "If the animal moves left the value will be [1.5, .5]\n",
    "\n",
    "The animal will also have a front point that will act to tell its direction.\n",
    "The front point is an angle in relation to the x-axis.\n",
    "\n",
    "Example:\n",
    "Let front = PI\n",
    "To calculate the front point we can then do cos(PI), sin(PI)\n",
    "\n",
    "The eyes of the animal will be an arclength away from the front point.\n",
    "Let front = PI\n",
    "eye1_arclength = .5\n",
    "\n",
    "Since the animal is essentially a unit circle:\n",
    "front_arc_length = PI\n",
    "eye1_arclength = PI + .5\n",
    "\n",
    "Finding the point of the eye is then trivial\n",
    "cos(eye1_arclength) + location[0], sin(eye1_arclength) + location[1]\n",
    "\n",
    "Then looking is just a matter of building a triangle from the eye and finding if anything lies within it's area\n",
    "\n",
    "\n",
    "The grid needs to know about all the animals so that it can tell when the game should be over. The grid is going to ask the animals for there location check and check for a winner at the end of each move"
   ]
  },
  {
   "cell_type": "code",
   "execution_count": 625,
   "metadata": {},
   "outputs": [],
   "source": [
    "# Create Agent Action Class\n",
    "class Animal:\n",
    "    def __init__(self, eyes, role):\n",
    "        self.role = role\n",
    "        self.location = [.5,.5]\n",
    "        self.direction_angle = (3*pi)/2\n",
    "        # Eye Arc Lengths\n",
    "        self.eyes = eyes\n",
    "        self.score = 0\n",
    "        \n",
    "    # Returns tuples of ordered pairs for the location of the eyes\n",
    "    def calc_eyes(self):\n",
    "        # Calculate the position for an eye and return a tuple of the coordinates\n",
    "        def calc_eye(eye):\n",
    "            x = cos(abs(self.direction_angle + eye.eye_arclength)) + self.location[0]\n",
    "            y = sin(abs(self.direction_angle + eye.eye_arclength)) + self.location[1]\n",
    "            return((x, y))\n",
    "        return(list(map(calc_eye, [eye for eye in self.eyes])))\n",
    "         \n",
    "    # The animal is allowed to turn it's body in any direction\n",
    "    def turn(self, grid, angle, animal_found = False):\n",
    "        self.direction_angle = (self.direction_angle + angle) % (2*pi)\n",
    "    \n",
    "    def decide_move(self, grid, angle, animal_found = False):\n",
    "        random.seed()\n",
    "        if(not animal_found):\n",
    "            angle = random.uniform(0, 6.24)\n",
    "            decided = random.choice([self.turn, self.move])\n",
    "            decided(grid, angle, animal_found)\n",
    "        else:\n",
    "            self.move(grid, angle, animal_found)\n",
    "\n",
    "    # The animal is allowed to move 1 in any direction\n",
    "    def move(self, grid, angle, animal_found = False):\n",
    "        if(animal_found and self.role == PREY):\n",
    "            angle += pi\n",
    "        x = cos(angle) + self.location[0]\n",
    "        y = sin(angle) + self.location[1]\n",
    "        if(grid.valid_move(x, y)):\n",
    "            self.location[0] = x\n",
    "            self.location[1] = y\n",
    "            return True\n",
    "        return False\n",
    "    \n",
    "#     # Look\n",
    "#     def look():\n",
    "#         for eye in calc_eyes():\n",
    "            "
   ]
  },
  {
   "cell_type": "code",
   "execution_count": 626,
   "metadata": {},
   "outputs": [
    {
     "ename": "TypeError",
     "evalue": "turn() missing 1 required positional argument: 'angle'",
     "output_type": "error",
     "traceback": [
      "\u001b[0;31m---------------------------------------------------------------------------\u001b[0m",
      "\u001b[0;31mTypeError\u001b[0m                                 Traceback (most recent call last)",
      "\u001b[0;32m<ipython-input-626-0ece2f526b93>\u001b[0m in \u001b[0;36m<module>\u001b[0;34m()\u001b[0m\n\u001b[1;32m      4\u001b[0m \u001b[0;34m\u001b[0m\u001b[0m\n\u001b[1;32m      5\u001b[0m \u001b[0;31m# The animal turns correctly\u001b[0m\u001b[0;34m\u001b[0m\u001b[0;34m\u001b[0m\u001b[0m\n\u001b[0;32m----> 6\u001b[0;31m \u001b[0mpred\u001b[0m\u001b[0;34m.\u001b[0m\u001b[0mturn\u001b[0m\u001b[0;34m(\u001b[0m\u001b[0mpi\u001b[0m\u001b[0;34m)\u001b[0m\u001b[0;34m\u001b[0m\u001b[0m\n\u001b[0m\u001b[1;32m      7\u001b[0m \u001b[0;32massert\u001b[0m \u001b[0mpred\u001b[0m\u001b[0;34m.\u001b[0m\u001b[0mdirection_angle\u001b[0m \u001b[0;34m==\u001b[0m \u001b[0mpi\u001b[0m\u001b[0;34m/\u001b[0m\u001b[0;36m2\u001b[0m\u001b[0;34m\u001b[0m\u001b[0m\n\u001b[1;32m      8\u001b[0m \u001b[0;31m# The animal moves correctly\u001b[0m\u001b[0;34m\u001b[0m\u001b[0;34m\u001b[0m\u001b[0m\n",
      "\u001b[0;31mTypeError\u001b[0m: turn() missing 1 required positional argument: 'angle'"
     ]
    }
   ],
   "source": [
    "# Tests - TODO Outdated\n",
    "firstGrid = Grid()\n",
    "pred = Animal(Eye, PREY)\n",
    "\n",
    "# The animal turns correctly\n",
    "pred.turn(pi)\n",
    "assert pred.direction_angle == pi/2\n",
    "# The animal moves correctly\n",
    "pred.move(firstGrid, 2*pi)\n",
    "\n",
    "assert pred.location[0] == cos(2*pi) + .5"
   ]
  },
  {
   "cell_type": "code",
   "execution_count": 637,
   "metadata": {},
   "outputs": [],
   "source": [
    "# Sim Control - Yea this is gonna have to be redone\n",
    "class simulation_control():\n",
    "    def __init__(self, Grid, Animal, prey_eyes, pred_eyes):\n",
    "        self.grid = Grid()\n",
    "        self.animals = [Animal(prey_eyes, PREY), Animal(pred_eyes, PRED)]\n",
    "        self.safe_zone = ([20,15],[20,15])\n",
    "        # Set the iterations\n",
    "        self.iterations = 1\n",
    "        for animal in self.animals:\n",
    "            animal.location[0] = random.randint(1,20)\n",
    "            animal.location[1] = random.randint(1,20)\n",
    "\n",
    "\n",
    "    # Helper funcs\n",
    "    def animal_in_area(self, triangle_vectors, current_animal):\n",
    "        # Check if the animal is within the 3 points\n",
    "        for animal in (set(self.animals).symmetric_difference(set([current_animal]))):\n",
    "            vector_directions = []\n",
    "            for vector in triangle_vectors:\n",
    "                vector_directions.append(np.cross(animal.location, vector))\n",
    "            normalized = [direction/sqrt(sum([direction**2 for direction in vector_directions])) for direction in vector_directions]\n",
    "            direction = [normal > 0 for normal in normalized]\n",
    "            return direction[0] == direction[1] == direction[2]\n",
    "        # Not quite the most efficient way, but it'll do for now\n",
    "    \n",
    "    def turn(self, animal):\n",
    "        other_animal_rel_location, distance = self.look(animal)\n",
    "        # Look to see if that animal won or lost\n",
    "        if(distance < 1.2 and animal.role == PRED):\n",
    "            print(\"Prey caught\")\n",
    "            print(animal.location)\n",
    "            for animal in self.animals:\n",
    "                if(animal.role == PRED):\n",
    "                    animal.score += 1\n",
    "                else:\n",
    "                    animal.score -= 1\n",
    "            return(True)\n",
    "        # Tell the animal to figure out where to move\n",
    "        animal.decide_move(self.grid, other_animal_rel_location, not (other_animal_rel_location==False))\n",
    "        return(False)\n",
    "            \n",
    "            \n",
    "    def look(self, current_animal):\n",
    "        for animal in self.animals:\n",
    "            if(animal == current_animal):\n",
    "                continue;\n",
    "            angle = -1\n",
    "            # Get the eye location area\n",
    "            for eye in animal.calc_eyes():\n",
    "                triangle_vectors = [(eye[0], eye[1]), (eye[0] + 8, eye[1] + 3), (eye[0] + 8, eye[1] - 3)]\n",
    "                # Check if another animal is present\n",
    "                if(self.animal_in_area(triangle_vectors, animal)):\n",
    "                    # Tell that animal where the other animal is relative to it\n",
    "                    angle = atan2(animal.location[1], animal.location[0])\n",
    "                    distance = sqrt((animal.location[0] - current_animal.location[0])**2 + (animal.location[1] - current_animal.location[1])**2)\n",
    "                    return((angle, distance))\n",
    "            return(False, 200)\n",
    "                \n",
    "            \n",
    "    def animal_locations(self):\n",
    "        return([animal.location for animal in self.animals])\n",
    "\n",
    "    def ending_score(self, current_animal):\n",
    "        for animal in self.animals:\n",
    "            if animal == current_animal:\n",
    "                continue;\n",
    "            if(current_animal.role == PRED):\n",
    "                current_animal.score -= sqrt((animal.location[0] - current_animal.location[0])**2 + (animal.location[1] - current_animal.location[1])**2)\n",
    "            else:\n",
    "                current_animal.score += sqrt((animal.location[0] - current_animal.location[0])**2 + (animal.location[1] - current_animal.location[1])**2)\n",
    "    \n",
    "    def start_sim(self):\n",
    "        # Run the iterations\n",
    "        for iteration in range(self.iterations):\n",
    "            for animal in self.animals:\n",
    "                turn = self.turn(animal)\n",
    "                c = \"red\" if animal.role != PREY else \"blue\"\n",
    "                print(animal.role, \": \", animal.score, \": \", animal.location)\n",
    "                plt.plot(animal.location[0], animal.location[1], 'ro', c=c, markersize=60)\n",
    "                for eye in animal.calc_eyes():\n",
    "                    print(eye)\n",
    "                    plt.plot(eye[0], eye[1], 'ro', c=\"green\", markersize=.9)\n",
    "            if(turn):\n",
    "                break;\n",
    "        for animal in self.animals:\n",
    "            self.ending_score(animal)\n",
    "        plt.show()\n",
    "        return(self.animals[0].score, self.animals[1].score)\n",
    "            \n",
    "        "
   ]
  },
  {
   "cell_type": "code",
   "execution_count": 639,
   "metadata": {},
   "outputs": [
    {
     "name": "stdout",
     "output_type": "stream",
     "text": [
      "-2.7737823872190424\n",
      "PREY :  0 :  [10.07152330911474, 17.628609323645897]\n",
      "(9.71195029102101, 18.5617262748685)\n",
      "(9.073075238393251, 17.684299987787526)\n",
      "PRED :  0 :  [5.49606587434472, 2.8682848889106665]\n",
      "(4.751434852396911, 2.200808566369588)\n",
      "(6.295108657336686, 3.469559061770647)\n"
     ]
    },
    {
     "data": {
      "image/png": "[encoded data removed]",
      "text/plain": [
       "<matplotlib.figure.Figure at 0x105fcbb70>"
      ]
     },
     "metadata": {},
     "output_type": "display_data"
    },
    {
     "data": {
      "text/plain": [
       "(15.453219346014412, -15.453219346014412)"
      ]
     },
     "execution_count": 639,
     "metadata": {},
     "output_type": "execute_result"
    }
   ],
   "source": [
    "eye_pair = (Evolve.random_eye_pair(), Evolve.random_eye_pair())\n",
    "print(eye_pair[0][0].eye_arclength)\n",
    "simulation_control(Grid, Animal, eye_pair[0], eye_pair[1]).start_sim()"
   ]
  },
  {
   "cell_type": "code",
   "execution_count": 559,
   "metadata": {},
   "outputs": [],
   "source": [
    "class Evolve():\n",
    "    def random_eye_pair():\n",
    "        return((Eye(random.uniform(-6.24, 6.24)), Eye(random.uniform(-6.24, 6.24))))\n",
    "    \n",
    "    def breed_eye(eye_pair1, eye_pair2):\n",
    "        return((Eye((eye_pair1[0].eye_arclength + eye_pair2[0].eye_arclength)/2), Eye((eye_pair1[1].eye_arclength + eye_pair2[1].eye_arclength)/2)))\n",
    "    \n",
    "    \n",
    "    def mutate(eye_pair):\n",
    "        chance_of_mutation = .01\n",
    "        if random.random() < chance_of_mutation:\n",
    "            eye_pair[0].eye_arclength += random.uniform(-6.24, 6.24)\n",
    "            eye_pair[1].eye_arclength += random.uniform(-6.24, 6.24)\n",
    "        return(eye_pair)"
   ]
  },
  {
   "cell_type": "code",
   "execution_count": 560,
   "metadata": {},
   "outputs": [],
   "source": [
    "# So we are going to have a predator population that will one on one with a prey population at random\n",
    "# The eye_placement for 1 and 2 will be random initally, but will undergo both breeding and mutation\n",
    "init_pop = 50\n",
    "prey_population = [Evolve.random_eye_pair() for item in range(init_pop)]\n",
    "pred_population = [Evolve.random_eye_pair() for item in range(init_pop)]\n"
   ]
  },
  {
   "cell_type": "code",
   "execution_count": 561,
   "metadata": {
    "scrolled": true
   },
   "outputs": [
    {
     "name": "stdout",
     "output_type": "stream",
     "text": [
      "PREY :  100.65362351583433\n",
      "PRED :  -100.65362351583433\n",
      "PREY :  49.165419224468266\n",
      "PRED :  -49.165419224468266\n",
      "PREY :  92.44024035243054\n",
      "PRED :  -92.44024035243054\n",
      "PREY :  32.75623456278587\n",
      "PRED :  -32.75623456278587\n",
      "PREY :  22.67209152620405\n",
      "PRED :  -22.67209152620405\n",
      "PREY :  95.59848045446742\n",
      "PRED :  -95.59848045446742\n",
      "PREY :  14.728857579339463\n",
      "PRED :  -14.728857579339463\n",
      "PREY :  104.68341760435257\n",
      "PRED :  -104.68341760435257\n",
      "PREY :  19.56680719101056\n",
      "PRED :  -19.56680719101056\n",
      "PREY :  87.42364807209661\n",
      "PRED :  -87.42364807209661\n",
      "PREY :  24.94579184667742\n",
      "PRED :  -24.94579184667742\n",
      "PREY :  119.6390220445047\n",
      "PRED :  -119.6390220445047\n",
      "PREY :  8.056537791334856\n",
      "PRED :  -8.056537791334856\n",
      "PREY :  114.59286651532084\n",
      "PRED :  -114.59286651532084\n",
      "PREY :  97.18460824182596\n",
      "PRED :  -97.18460824182596\n",
      "PREY :  94.72002251796155\n",
      "PRED :  -94.72002251796155\n",
      "PREY :  34.84856783483799\n",
      "PRED :  -34.84856783483799\n",
      "PREY :  6.442480248357158\n",
      "PRED :  -6.442480248357158\n",
      "PREY :  13.221906758658179\n",
      "PRED :  -13.221906758658179\n",
      "PREY :  95.07773693233224\n",
      "PRED :  -95.07773693233224\n",
      "PREY :  40.17133812015802\n",
      "PRED :  -40.17133812015802\n",
      "PREY :  92.05843472822755\n",
      "PRED :  -92.05843472822755\n",
      "PREY :  78.21714553157604\n",
      "PRED :  -78.21714553157604\n",
      "PREY :  89.67227754838721\n",
      "PRED :  -89.67227754838721\n",
      "PREY :  20.65155340477253\n",
      "PRED :  -20.65155340477253\n",
      "PREY :  21.07109336600391\n",
      "PRED :  -21.07109336600391\n",
      "PREY :  114.49047427397696\n",
      "PRED :  -114.49047427397696\n",
      "PREY :  21.275955458399533\n",
      "PRED :  -21.275955458399533\n",
      "PREY :  19.661949885676943\n",
      "PRED :  -19.661949885676943\n",
      "PREY :  92.75863499866998\n",
      "PRED :  -92.75863499866998\n",
      "PREY :  25.211500720985793\n",
      "PRED :  -25.211500720985793\n",
      "PREY :  104.88831776608598\n",
      "PRED :  -104.88831776608598\n",
      "PREY :  12.01047505463034\n",
      "PRED :  -12.01047505463034\n",
      "PREY :  95.58753028153436\n",
      "PRED :  -95.58753028153436\n",
      "PREY :  107.49483829826582\n",
      "PRED :  -107.49483829826582\n",
      "PREY :  102.51353807041717\n",
      "PRED :  -102.51353807041717\n",
      "PREY :  18.627214433308367\n",
      "PRED :  -18.627214433308367\n",
      "PREY :  32.027397813265154\n",
      "PRED :  -32.027397813265154\n",
      "PREY :  26.920670773116374\n",
      "PRED :  -26.920670773116374\n",
      "PREY :  99.76003280104543\n",
      "PRED :  -99.76003280104543\n",
      "PREY :  8.161506894235997\n",
      "PRED :  -8.161506894235997\n",
      "PREY :  19.202303167583906\n",
      "PRED :  -19.202303167583906\n",
      "PREY :  24.10946609850756\n",
      "PRED :  -24.10946609850756\n",
      "PREY :  19.99851452974857\n",
      "PRED :  -19.99851452974857\n",
      "PREY :  97.67609583415188\n",
      "PRED :  -97.67609583415188\n",
      "PREY :  97.4209157421234\n",
      "PRED :  -97.4209157421234\n",
      "PREY :  93.24043215252047\n",
      "PRED :  -93.24043215252047\n",
      "PREY :  7.370224196759786\n",
      "PRED :  -7.370224196759786\n",
      "PREY :  122.51823393965617\n",
      "PRED :  -122.51823393965617\n",
      "PREY :  60.46749180151019\n",
      "PRED :  -60.46749180151019\n"
     ]
    }
   ],
   "source": [
    "simulation = [(eye_pair_pair[0], eye_pair_pair[1], simulation_control(Grid, Animal, eye_pair_pair[0], eye_pair_pair[1]).start_sim())  for eye_pair_pair in zip(prey_population, pred_population)]"
   ]
  },
  {
   "cell_type": "code",
   "execution_count": 562,
   "metadata": {
    "scrolled": true
   },
   "outputs": [
    {
     "data": {
      "text/plain": [
       "[((<__main__.Eye at 0x1069096d8>, <__main__.Eye at 0x106909ba8>),\n",
       "  (<__main__.Eye at 0x106909c88>, <__main__.Eye at 0x106452c18>),\n",
       "  (100.65362351583433, -100.65362351583433)),\n",
       " ((<__main__.Eye at 0x1069099b0>, <__main__.Eye at 0x1069099e8>),\n",
       "  (<__main__.Eye at 0x106452cc0>, <__main__.Eye at 0x106452240>),\n",
       "  (49.165419224468266, -49.165419224468266)),\n",
       " ((<__main__.Eye at 0x1069095c0>, <__main__.Eye at 0x106909be0>),\n",
       "  (<__main__.Eye at 0x1064522b0>, <__main__.Eye at 0x106452ac8>),\n",
       "  (92.44024035243054, -92.44024035243054)),\n",
       " ((<__main__.Eye at 0x106909c50>, <__main__.Eye at 0x1069092e8>),\n",
       "  (<__main__.Eye at 0x106452550>, <__main__.Eye at 0x106452e48>),\n",
       "  (32.75623456278587, -32.75623456278587)),\n",
       " ((<__main__.Eye at 0x106909cf8>, <__main__.Eye at 0x106909fd0>),\n",
       "  (<__main__.Eye at 0x106452748>, <__main__.Eye at 0x106452940>),\n",
       "  (22.67209152620405, -22.67209152620405)),\n",
       " ((<__main__.Eye at 0x106909860>, <__main__.Eye at 0x106909a58>),\n",
       "  (<__main__.Eye at 0x106452780>, <__main__.Eye at 0x105e6f7f0>),\n",
       "  (95.59848045446742, -95.59848045446742)),\n",
       " ((<__main__.Eye at 0x1069093c8>, <__main__.Eye at 0x106909710>),\n",
       "  (<__main__.Eye at 0x105e6fc50>, <__main__.Eye at 0x105e6f160>),\n",
       "  (14.728857579339463, -14.728857579339463)),\n",
       " ((<__main__.Eye at 0x106909320>, <__main__.Eye at 0x106909780>),\n",
       "  (<__main__.Eye at 0x105e6f5f8>, <__main__.Eye at 0x105e6feb8>),\n",
       "  (104.68341760435257, -104.68341760435257)),\n",
       " ((<__main__.Eye at 0x106909390>, <__main__.Eye at 0x106909048>),\n",
       "  (<__main__.Eye at 0x105f6ac50>, <__main__.Eye at 0x106846a20>),\n",
       "  (19.56680719101056, -19.56680719101056)),\n",
       " ((<__main__.Eye at 0x106909eb8>, <__main__.Eye at 0x106909b00>),\n",
       "  (<__main__.Eye at 0x106715470>, <__main__.Eye at 0x106715278>),\n",
       "  (87.42364807209661, -87.42364807209661)),\n",
       " ((<__main__.Eye at 0x1069094e0>, <__main__.Eye at 0x106909668>),\n",
       "  (<__main__.Eye at 0x106715320>, <__main__.Eye at 0x106715048>),\n",
       "  (24.94579184667742, -24.94579184667742)),\n",
       " ((<__main__.Eye at 0x106909f60>, <__main__.Eye at 0x106909b70>),\n",
       "  (<__main__.Eye at 0x106715cc0>, <__main__.Eye at 0x106715898>),\n",
       "  (119.6390220445047, -119.6390220445047)),\n",
       " ((<__main__.Eye at 0x1069094a8>, <__main__.Eye at 0x106909b38>),\n",
       "  (<__main__.Eye at 0x1067150b8>, <__main__.Eye at 0x106715390>),\n",
       "  (8.056537791334856, -8.056537791334856)),\n",
       " ((<__main__.Eye at 0x1069095f8>, <__main__.Eye at 0x106909e48>),\n",
       "  (<__main__.Eye at 0x106715358>, <__main__.Eye at 0x106715400>),\n",
       "  (114.59286651532084, -114.59286651532084)),\n",
       " ((<__main__.Eye at 0x106909160>, <__main__.Eye at 0x106909278>),\n",
       "  (<__main__.Eye at 0x106715588>, <__main__.Eye at 0x1067156a0>),\n",
       "  (97.18460824182596, -97.18460824182596)),\n",
       " ((<__main__.Eye at 0x106909208>, <__main__.Eye at 0x1069091d0>),\n",
       "  (<__main__.Eye at 0x106715630>, <__main__.Eye at 0x106715dd8>),\n",
       "  (94.72002251796155, -94.72002251796155)),\n",
       " ((<__main__.Eye at 0x106909978>, <__main__.Eye at 0x106909d68>),\n",
       "  (<__main__.Eye at 0x1067154e0>, <__main__.Eye at 0x1067158d0>),\n",
       "  (34.84856783483799, -34.84856783483799)),\n",
       " ((<__main__.Eye at 0x1069097b8>, <__main__.Eye at 0x106909438>),\n",
       "  (<__main__.Eye at 0x106715748>, <__main__.Eye at 0x106715438>),\n",
       "  (6.442480248357158, -6.442480248357158)),\n",
       " ((<__main__.Eye at 0x106909908>, <__main__.Eye at 0x106909ac8>),\n",
       "  (<__main__.Eye at 0x106715080>, <__main__.Eye at 0x106715550>),\n",
       "  (13.221906758658179, -13.221906758658179)),\n",
       " ((<__main__.Eye at 0x106909128>, <__main__.Eye at 0x106909198>),\n",
       "  (<__main__.Eye at 0x106715e10>, <__main__.Eye at 0x1067150f0>),\n",
       "  (95.07773693233224, -95.07773693233224)),\n",
       " ((<__main__.Eye at 0x106909898>, <__main__.Eye at 0x1069092b0>),\n",
       "  (<__main__.Eye at 0x106715128>, <__main__.Eye at 0x106715b00>),\n",
       "  (40.17133812015802, -40.17133812015802)),\n",
       " ((<__main__.Eye at 0x106909ef0>, <__main__.Eye at 0x106909748>),\n",
       "  (<__main__.Eye at 0x106715208>, <__main__.Eye at 0x106715c88>),\n",
       "  (92.05843472822755, -92.05843472822755)),\n",
       " ((<__main__.Eye at 0x1064c5f98>, <__main__.Eye at 0x105d34d68>),\n",
       "  (<__main__.Eye at 0x106715f98>, <__main__.Eye at 0x106715ef0>),\n",
       "  (78.21714553157604, -78.21714553157604)),\n",
       " ((<__main__.Eye at 0x105d34438>, <__main__.Eye at 0x105d34320>),\n",
       "  (<__main__.Eye at 0x1067154a8>, <__main__.Eye at 0x106715eb8>),\n",
       "  (89.67227754838721, -89.67227754838721)),\n",
       " ((<__main__.Eye at 0x105d346a0>, <__main__.Eye at 0x105d344a8>),\n",
       "  (<__main__.Eye at 0x106715198>, <__main__.Eye at 0x1067155f8>),\n",
       "  (20.65155340477253, -20.65155340477253)),\n",
       " ((<__main__.Eye at 0x105d34cc0>, <__main__.Eye at 0x105d34080>),\n",
       "  (<__main__.Eye at 0x1067153c8>, <__main__.Eye at 0x106715780>),\n",
       "  (21.07109336600391, -21.07109336600391)),\n",
       " ((<__main__.Eye at 0x105d34550>, <__main__.Eye at 0x105d347b8>),\n",
       "  (<__main__.Eye at 0x106715ac8>, <__main__.Eye at 0x1067151d0>),\n",
       "  (114.49047427397696, -114.49047427397696)),\n",
       " ((<__main__.Eye at 0x105d34400>, <__main__.Eye at 0x105d345c0>),\n",
       "  (<__main__.Eye at 0x106715fd0>, <__main__.Eye at 0x105dce588>),\n",
       "  (21.275955458399533, -21.275955458399533)),\n",
       " ((<__main__.Eye at 0x105d34860>, <__main__.Eye at 0x105d34dd8>),\n",
       "  (<__main__.Eye at 0x105dce0f0>, <__main__.Eye at 0x105dce6d8>),\n",
       "  (19.661949885676943, -19.661949885676943)),\n",
       " ((<__main__.Eye at 0x105d34da0>, <__main__.Eye at 0x105d34240>),\n",
       "  (<__main__.Eye at 0x105dce908>, <__main__.Eye at 0x105dcef98>),\n",
       "  (92.75863499866998, -92.75863499866998)),\n",
       " ((<__main__.Eye at 0x105d342e8>, <__main__.Eye at 0x105d34208>),\n",
       "  (<__main__.Eye at 0x105dce3c8>, <__main__.Eye at 0x105dce240>),\n",
       "  (25.211500720985793, -25.211500720985793)),\n",
       " ((<__main__.Eye at 0x105d34eb8>, <__main__.Eye at 0x105d34908>),\n",
       "  (<__main__.Eye at 0x105dce5c0>, <__main__.Eye at 0x105dce4e0>),\n",
       "  (104.88831776608598, -104.88831776608598)),\n",
       " ((<__main__.Eye at 0x105d34c50>, <__main__.Eye at 0x105d34630>),\n",
       "  (<__main__.Eye at 0x105dce748>, <__main__.Eye at 0x105dcec50>),\n",
       "  (12.01047505463034, -12.01047505463034)),\n",
       " ((<__main__.Eye at 0x105d34390>, <__main__.Eye at 0x105d348d0>),\n",
       "  (<__main__.Eye at 0x105dcef28>, <__main__.Eye at 0x105dcedd8>),\n",
       "  (95.58753028153436, -95.58753028153436)),\n",
       " ((<__main__.Eye at 0x105d34278>, <__main__.Eye at 0x105d34128>),\n",
       "  (<__main__.Eye at 0x1065f8278>, <__main__.Eye at 0x10682e630>),\n",
       "  (107.49483829826582, -107.49483829826582)),\n",
       " ((<__main__.Eye at 0x105d34748>, <__main__.Eye at 0x105d34f28>),\n",
       "  (<__main__.Eye at 0x10682e400>, <__main__.Eye at 0x10682ecc0>),\n",
       "  (102.51353807041717, -102.51353807041717)),\n",
       " ((<__main__.Eye at 0x105d34588>, <__main__.Eye at 0x105d346d8>),\n",
       "  (<__main__.Eye at 0x10682e908>, <__main__.Eye at 0x10682e8d0>),\n",
       "  (18.627214433308367, -18.627214433308367)),\n",
       " ((<__main__.Eye at 0x105d345f8>, <__main__.Eye at 0x106840358>),\n",
       "  (<__main__.Eye at 0x10682e6a0>, <__main__.Eye at 0x10682ec88>),\n",
       "  (32.027397813265154, -32.027397813265154)),\n",
       " ((<__main__.Eye at 0x106840048>, <__main__.Eye at 0x101c8e7f0>),\n",
       "  (<__main__.Eye at 0x10682ed30>, <__main__.Eye at 0x10682eba8>),\n",
       "  (26.920670773116374, -26.920670773116374)),\n",
       " ((<__main__.Eye at 0x101c8e780>, <__main__.Eye at 0x101c8e630>),\n",
       "  (<__main__.Eye at 0x10682ebe0>, <__main__.Eye at 0x10682ea20>),\n",
       "  (99.76003280104543, -99.76003280104543)),\n",
       " ((<__main__.Eye at 0x101c8e6d8>, <__main__.Eye at 0x106832ac8>),\n",
       "  (<__main__.Eye at 0x10682ecf8>, <__main__.Eye at 0x10682e9e8>),\n",
       "  (8.161506894235997, -8.161506894235997)),\n",
       " ((<__main__.Eye at 0x106832390>, <__main__.Eye at 0x1068322e8>),\n",
       "  (<__main__.Eye at 0x105d34fd0>, <__main__.Eye at 0x105d34f60>),\n",
       "  (19.202303167583906, -19.202303167583906)),\n",
       " ((<__main__.Eye at 0x1068324e0>, <__main__.Eye at 0x106452a20>),\n",
       "  (<__main__.Eye at 0x1064cbb00>, <__main__.Eye at 0x1064cba58>),\n",
       "  (24.10946609850756, -24.10946609850756)),\n",
       " ((<__main__.Eye at 0x106452e10>, <__main__.Eye at 0x106452908>),\n",
       "  (<__main__.Eye at 0x1064cb080>, <__main__.Eye at 0x1064cb7f0>),\n",
       "  (19.99851452974857, -19.99851452974857)),\n",
       " ((<__main__.Eye at 0x106452198>, <__main__.Eye at 0x106452cf8>),\n",
       "  (<__main__.Eye at 0x1064cb5f8>, <__main__.Eye at 0x1064cb780>),\n",
       "  (97.67609583415188, -97.67609583415188)),\n",
       " ((<__main__.Eye at 0x1064526a0>, <__main__.Eye at 0x106452c88>),\n",
       "  (<__main__.Eye at 0x1064cb198>, <__main__.Eye at 0x1064cba90>),\n",
       "  (97.4209157421234, -97.4209157421234)),\n",
       " ((<__main__.Eye at 0x1064520f0>, <__main__.Eye at 0x1064526d8>),\n",
       "  (<__main__.Eye at 0x1064cb0f0>, <__main__.Eye at 0x1064cb0b8>),\n",
       "  (93.24043215252047, -93.24043215252047)),\n",
       " ((<__main__.Eye at 0x106452a90>, <__main__.Eye at 0x1064525f8>),\n",
       "  (<__main__.Eye at 0x1064cb4e0>, <__main__.Eye at 0x1064cbe10>),\n",
       "  (7.370224196759786, -7.370224196759786)),\n",
       " ((<__main__.Eye at 0x106452358>, <__main__.Eye at 0x106452fd0>),\n",
       "  (<__main__.Eye at 0x1064cb208>, <__main__.Eye at 0x1064cb2e8>),\n",
       "  (122.51823393965617, -122.51823393965617)),\n",
       " ((<__main__.Eye at 0x106452f60>, <__main__.Eye at 0x1064527b8>),\n",
       "  (<__main__.Eye at 0x1064cbf98>, <__main__.Eye at 0x1064cb748>),\n",
       "  (60.46749180151019, -60.46749180151019))]"
      ]
     },
     "execution_count": 562,
     "metadata": {},
     "output_type": "execute_result"
    }
   ],
   "source": [
    "simulation"
   ]
  },
  {
   "cell_type": "code",
   "execution_count": 572,
   "metadata": {
    "scrolled": true
   },
   "outputs": [
    {
     "name": "stdout",
     "output_type": "stream",
     "text": [
      "[(<__main__.Eye object at 0x1067f8588>, <__main__.Eye object at 0x1067f8eb8>), (<__main__.Eye object at 0x1067f8240>, <__main__.Eye object at 0x1067f8d68>), (<__main__.Eye object at 0x1067f8a58>, <__main__.Eye object at 0x1067f8470>), (<__main__.Eye object at 0x1067f8160>, <__main__.Eye object at 0x1067f8e80>), (<__main__.Eye object at 0x1067f8518>, <__main__.Eye object at 0x1067f8208>), (<__main__.Eye object at 0x1067f84a8>, <__main__.Eye object at 0x1067f8fd0>), (<__main__.Eye object at 0x1067f8b00>, <__main__.Eye object at 0x1067f8320>), (<__main__.Eye object at 0x1067f8748>, <__main__.Eye object at 0x1067f88d0>), (<__main__.Eye object at 0x1067f8da0>, <__main__.Eye object at 0x1067f8c88>), (<__main__.Eye object at 0x1067f89b0>, <__main__.Eye object at 0x1067f8400>), (<__main__.Eye object at 0x1067f8ac8>, <__main__.Eye object at 0x1067f8c18>), (<__main__.Eye object at 0x1067f8048>, <__main__.Eye object at 0x1067f86a0>), (<__main__.Eye object at 0x1067f8940>, <__main__.Eye object at 0x1067f8390>), (<__main__.Eye object at 0x1067f82e8>, <__main__.Eye object at 0x1067f8e48>), (<__main__.Eye object at 0x1067f8080>, <__main__.Eye object at 0x1067f80f0>), (<__main__.Eye object at 0x1067f85c0>, <__main__.Eye object at 0x1067f8358>), (<__main__.Eye object at 0x1067f8908>, <__main__.Eye object at 0x1067f8ef0>), (<__main__.Eye object at 0x1067f8ba8>, <__main__.Eye object at 0x1067f83c8>), (<__main__.Eye object at 0x1067f8860>, <__main__.Eye object at 0x1067f8780>), (<__main__.Eye object at 0x1067f8cc0>, <__main__.Eye object at 0x1067f8f60>), (<__main__.Eye object at 0x1067f8f28>, <__main__.Eye object at 0x1067f82b0>), (<__main__.Eye object at 0x1067f81d0>, <__main__.Eye object at 0x1067f8dd8>), (<__main__.Eye object at 0x1067f8cf8>, <__main__.Eye object at 0x1067f84e0>), (<__main__.Eye object at 0x1067f8a90>, <__main__.Eye object at 0x1067f8828>), (<__main__.Eye object at 0x1067f8278>, <__main__.Eye object at 0x1067f87f0>), (<__main__.Eye object at 0x1067f86d8>, <__main__.Eye object at 0x1067f8c50>), (<__main__.Eye object at 0x1067f89e8>, <__main__.Eye object at 0x1067f8a20>), (<__main__.Eye object at 0x1067f8128>, <__main__.Eye object at 0x1067f8438>), (<__main__.Eye object at 0x1067f8630>, <__main__.Eye object at 0x1067f87b8>), (<__main__.Eye object at 0x1067f80b8>, <__main__.Eye object at 0x1066f4a58>), (<__main__.Eye object at 0x1066f4438>, <__main__.Eye object at 0x1066f4e10>), (<__main__.Eye object at 0x1066f47b8>, <__main__.Eye object at 0x1066f45f8>), (<__main__.Eye object at 0x1066f4a20>, <__main__.Eye object at 0x1066f4da0>), (<__main__.Eye object at 0x1066f4f60>, <__main__.Eye object at 0x1066f4128>), (<__main__.Eye object at 0x1066f4470>, <__main__.Eye object at 0x1066f42e8>), (<__main__.Eye object at 0x1066f46d8>, <__main__.Eye object at 0x1066f4198>), (<__main__.Eye object at 0x1066f4fd0>, <__main__.Eye object at 0x1066f4e48>), (<__main__.Eye object at 0x1066f4240>, <__main__.Eye object at 0x1066f4dd8>), (<__main__.Eye object at 0x1066f4710>, <__main__.Eye object at 0x1066f4be0>), (<__main__.Eye object at 0x1066f4940>, <__main__.Eye object at 0x1066f4cc0>), (<__main__.Eye object at 0x1066f4ef0>, <__main__.Eye object at 0x1066f4898>), (<__main__.Eye object at 0x1066f4668>, <__main__.Eye object at 0x1066f42b0>), (<__main__.Eye object at 0x1066f4080>, <__main__.Eye object at 0x1066f4c50>), (<__main__.Eye object at 0x1066f4278>, <__main__.Eye object at 0x1066f4c18>), (<__main__.Eye object at 0x1066f4550>, <__main__.Eye object at 0x1066f4c88>), (<__main__.Eye object at 0x1066f45c0>, <__main__.Eye object at 0x1066f47f0>), (<__main__.Eye object at 0x1066f4908>, <__main__.Eye object at 0x1066f49e8>), (<__main__.Eye object at 0x1066f4d30>, <__main__.Eye object at 0x1066f40f0>), (<__main__.Eye object at 0x1066f4ba8>, <__main__.Eye object at 0x1066f4780>), (<__main__.Eye object at 0x1066f40b8>, <__main__.Eye object at 0x1066f4048>), (<__main__.Eye object at 0x1066f4630>, <__main__.Eye object at 0x1066f4eb8>), (<__main__.Eye object at 0x1066f4748>, <__main__.Eye object at 0x1066f4860>), (<__main__.Eye object at 0x1066f4320>, <__main__.Eye object at 0x1066f4588>), (<__main__.Eye object at 0x1066f48d0>, <__main__.Eye object at 0x1066f4208>), (<__main__.Eye object at 0x1066f49b0>, <__main__.Eye object at 0x1066f43c8>), (<__main__.Eye object at 0x1066f4358>, <__main__.Eye object at 0x1066f44a8>), (<__main__.Eye object at 0x1066f4f28>, <__main__.Eye object at 0x1066f4b00>), (<__main__.Eye object at 0x1066f4b70>, <__main__.Eye object at 0x1066f4f98>), (<__main__.Eye object at 0x1066f44e0>, <__main__.Eye object at 0x1066f4828>), (<__main__.Eye object at 0x1066f4e80>, <__main__.Eye object at 0x1066f4518>), (<__main__.Eye object at 0x1066f4390>, <__main__.Eye object at 0x1066f46a0>), (<__main__.Eye object at 0x1066f4160>, <__main__.Eye object at 0x1066f4a90>), (<__main__.Eye object at 0x1066f41d0>, <__main__.Eye object at 0x105f9f320>), (<__main__.Eye object at 0x105f9f1d0>, <__main__.Eye object at 0x105f9f9b0>), (<__main__.Eye object at 0x105f9f550>, <__main__.Eye object at 0x105f9f2e8>), (<__main__.Eye object at 0x105f9f358>, <__main__.Eye object at 0x105f9fcc0>), (<__main__.Eye object at 0x105f9fc50>, <__main__.Eye object at 0x105f9f080>), (<__main__.Eye object at 0x105f9feb8>, <__main__.Eye object at 0x105f9f400>), (<__main__.Eye object at 0x105f9f240>, <__main__.Eye object at 0x105f9f6d8>), (<__main__.Eye object at 0x105f9fe10>, <__main__.Eye object at 0x105f9fa58>), (<__main__.Eye object at 0x105f9f128>, <__main__.Eye object at 0x105f9fe80>), (<__main__.Eye object at 0x105f9fc18>, <__main__.Eye object at 0x105f9f5c0>), (<__main__.Eye object at 0x105f9f7b8>, <__main__.Eye object at 0x105f9f860>), (<__main__.Eye object at 0x105f9fe48>, <__main__.Eye object at 0x105f9fa20>), (<__main__.Eye object at 0x105f9ff98>, <__main__.Eye object at 0x105f9fd30>), (<__main__.Eye object at 0x105f9fbe0>, <__main__.Eye object at 0x105f9f9e8>), (<__main__.Eye object at 0x105f9ff28>, <__main__.Eye object at 0x105f9fc88>), (<__main__.Eye object at 0x105f9f0b8>, <__main__.Eye object at 0x105f9fa90>), (<__main__.Eye object at 0x105f9f6a0>, <__main__.Eye object at 0x105f9f898>), (<__main__.Eye object at 0x105f9f5f8>, <__main__.Eye object at 0x105f9f7f0>), (<__main__.Eye object at 0x105f9f780>, <__main__.Eye object at 0x105f9f438>), (<__main__.Eye object at 0x105f9f198>, <__main__.Eye object at 0x105f9f470>), (<__main__.Eye object at 0x105f9f940>, <__main__.Eye object at 0x105f9f8d0>), (<__main__.Eye object at 0x105f9f4a8>, <__main__.Eye object at 0x105f9f828>), (<__main__.Eye object at 0x105f9ffd0>, <__main__.Eye object at 0x105f9f668>), (<__main__.Eye object at 0x105f9f710>, <__main__.Eye object at 0x105f9f588>), (<__main__.Eye object at 0x105f9fdd8>, <__main__.Eye object at 0x105f9fef0>), (<__main__.Eye object at 0x105f9f978>, <__main__.Eye object at 0x105f9fb70>), (<__main__.Eye object at 0x105f9f3c8>, <__main__.Eye object at 0x105f9f630>), (<__main__.Eye object at 0x105f9f748>, <__main__.Eye object at 0x105f9fba8>), (<__main__.Eye object at 0x105f9f518>, <__main__.Eye object at 0x105f9fac8>), (<__main__.Eye object at 0x105f9f160>, <__main__.Eye object at 0x105f9f2b0>), (<__main__.Eye object at 0x105f9f048>, <__main__.Eye object at 0x105f9fb00>), (<__main__.Eye object at 0x105f9f208>, <__main__.Eye object at 0x105f9f278>), (<__main__.Eye object at 0x105f9fda0>, <__main__.Eye object at 0x105f9f0f0>), (<__main__.Eye object at 0x105f9f390>, <__main__.Eye object at 0x1063a8ac8>), (<__main__.Eye object at 0x1063a8940>, <__main__.Eye object at 0x1063a8e48>), (<__main__.Eye object at 0x1063a89b0>, <__main__.Eye object at 0x1063a8550>), (<__main__.Eye object at 0x1063a84e0>, <__main__.Eye object at 0x1063a8d68>), (<__main__.Eye object at 0x1063a86d8>, <__main__.Eye object at 0x1063a8198>), (<__main__.Eye object at 0x1063a8ef0>, <__main__.Eye object at 0x1063a8fd0>), (<__main__.Eye object at 0x1063a8c50>, <__main__.Eye object at 0x1063a8e10>), (<__main__.Eye object at 0x1063a8208>, <__main__.Eye object at 0x1063a8dd8>), (<__main__.Eye object at 0x1063a8a20>, <__main__.Eye object at 0x1063a86a0>), (<__main__.Eye object at 0x1063a80b8>, <__main__.Eye object at 0x1063a8828>), (<__main__.Eye object at 0x1063a8048>, <__main__.Eye object at 0x1063a8b70>), (<__main__.Eye object at 0x1063a8908>, <__main__.Eye object at 0x1063a8438>), (<__main__.Eye object at 0x1063a87f0>, <__main__.Eye object at 0x1063a8860>), (<__main__.Eye object at 0x1063a85c0>, <__main__.Eye object at 0x1063a8898>), (<__main__.Eye object at 0x1063a8f28>, <__main__.Eye object at 0x1063a81d0>), (<__main__.Eye object at 0x1063a8518>, <__main__.Eye object at 0x1063a8320>), (<__main__.Eye object at 0x1063a8d30>, <__main__.Eye object at 0x1063a8160>), (<__main__.Eye object at 0x1063a8f60>, <__main__.Eye object at 0x1063a8240>), (<__main__.Eye object at 0x1063a8b00>, <__main__.Eye object at 0x1063a8780>), (<__main__.Eye object at 0x1063a82b0>, <__main__.Eye object at 0x1063a87b8>), (<__main__.Eye object at 0x1063a84a8>, <__main__.Eye object at 0x1063a8be0>), (<__main__.Eye object at 0x1063a8080>, <__main__.Eye object at 0x1063a8128>), (<__main__.Eye object at 0x1063a83c8>, <__main__.Eye object at 0x1063a8668>), (<__main__.Eye object at 0x1063a8cc0>, <__main__.Eye object at 0x1063a88d0>), (<__main__.Eye object at 0x1063a8630>, <__main__.Eye object at 0x1063a82e8>), (<__main__.Eye object at 0x1063a8cf8>, <__main__.Eye object at 0x1063a8a58>), (<__main__.Eye object at 0x1063a85f8>, <__main__.Eye object at 0x1063a8f98>), (<__main__.Eye object at 0x1063a8ba8>, <__main__.Eye object at 0x1063a8278>), (<__main__.Eye object at 0x1063a8588>, <__main__.Eye object at 0x1063a8400>), (<__main__.Eye object at 0x1063a8c18>, <__main__.Eye object at 0x1064a7400>), (<__main__.Eye object at 0x1064a7048>, <__main__.Eye object at 0x1064a7828>), (<__main__.Eye object at 0x1064a7f60>, <__main__.Eye object at 0x1064a7ac8>), (<__main__.Eye object at 0x1064a73c8>, <__main__.Eye object at 0x1064a7f98>), (<__main__.Eye object at 0x1064a7c88>, <__main__.Eye object at 0x1064a7dd8>), (<__main__.Eye object at 0x1064a7710>, <__main__.Eye object at 0x1064a70f0>), (<__main__.Eye object at 0x1064a7a90>, <__main__.Eye object at 0x1064a77f0>), (<__main__.Eye object at 0x1064a7588>, <__main__.Eye object at 0x1064a7358>), (<__main__.Eye object at 0x1064a7550>, <__main__.Eye object at 0x1064a72e8>), (<__main__.Eye object at 0x1064a7b38>, <__main__.Eye object at 0x1064a7c18>), (<__main__.Eye object at 0x1064a7cf8>, <__main__.Eye object at 0x1064a7c50>), (<__main__.Eye object at 0x1064a7cc0>, <__main__.Eye object at 0x1064a7320>), (<__main__.Eye object at 0x1064a7438>, <__main__.Eye object at 0x1064a7198>), (<__main__.Eye object at 0x1064a7240>, <__main__.Eye object at 0x1064a7748>), (<__main__.Eye object at 0x1064a71d0>, <__main__.Eye object at 0x1064a74e0>), (<__main__.Eye object at 0x1064a7208>, <__main__.Eye object at 0x1064a7a58>), (<__main__.Eye object at 0x1064a7e48>, <__main__.Eye object at 0x1064a7d68>), (<__main__.Eye object at 0x1064a74a8>, <__main__.Eye object at 0x1064a7ba8>), (<__main__.Eye object at 0x1064a7470>, <__main__.Eye object at 0x1064a7da0>), (<__main__.Eye object at 0x1064a7908>, <__main__.Eye object at 0x1064a7e10>), (<__main__.Eye object at 0x1064a7390>, <__main__.Eye object at 0x1064a7b70>), (<__main__.Eye object at 0x1064a7a20>, <__main__.Eye object at 0x1064a77b8>), (<__main__.Eye object at 0x1064a7780>, <__main__.Eye object at 0x1064a7e80>), (<__main__.Eye object at 0x1064a79b0>, <__main__.Eye object at 0x1064a7f28>), (<__main__.Eye object at 0x1064a7940>, <__main__.Eye object at 0x1064a75c0>), (<__main__.Eye object at 0x1064a79e8>, <__main__.Eye object at 0x1064a70b8>), (<__main__.Eye object at 0x1064a7668>, <__main__.Eye object at 0x1064a7978>), (<__main__.Eye object at 0x1064a7fd0>, <__main__.Eye object at 0x1064a7128>), (<__main__.Eye object at 0x1064a7278>, <__main__.Eye object at 0x1064a7898>), (<__main__.Eye object at 0x1064a7b00>, <__main__.Eye object at 0x1064a7518>), (<__main__.Eye object at 0x1064a7080>, <__main__.Eye object at 0x1064a7160>), (<__main__.Eye object at 0x1064a72b0>, <__main__.Eye object at 0x1064a7630>), (<__main__.Eye object at 0x1064a7eb8>, <__main__.Eye object at 0x1064a76d8>), (<__main__.Eye object at 0x1064a76a0>, <__main__.Eye object at 0x1064a7d30>), (<__main__.Eye object at 0x1064a7be0>, <__main__.Eye object at 0x1064a78d0>), (<__main__.Eye object at 0x1064a75f8>, <__main__.Eye object at 0x105e6ff98>), (<__main__.Eye object at 0x105e6f208>, <__main__.Eye object at 0x105e6fba8>), (<__main__.Eye object at 0x105e6fda0>, <__main__.Eye object at 0x105e6f0b8>), (<__main__.Eye object at 0x105e6f6d8>, <__main__.Eye object at 0x105e6f630>), (<__main__.Eye object at 0x105e6f358>, <__main__.Eye object at 0x105e6f780>), (<__main__.Eye object at 0x105e6fb70>, <__main__.Eye object at 0x105e6f438>), (<__main__.Eye object at 0x105e6f0f0>, <__main__.Eye object at 0x105e6f2e8>), (<__main__.Eye object at 0x105e6f7b8>, <__main__.Eye object at 0x105e6fa58>), (<__main__.Eye object at 0x105e6f588>, <__main__.Eye object at 0x105e6f748>), (<__main__.Eye object at 0x105e6f9e8>, <__main__.Eye object at 0x105e6f3c8>), (<__main__.Eye object at 0x105e6f080>, <__main__.Eye object at 0x105e6f6a0>), (<__main__.Eye object at 0x105e6f9b0>, <__main__.Eye object at 0x105e6f860>), (<__main__.Eye object at 0x105e6fac8>, <__main__.Eye object at 0x105e6fd68>), (<__main__.Eye object at 0x105e6f518>, <__main__.Eye object at 0x105e6f128>), (<__main__.Eye object at 0x105e6f978>, <__main__.Eye object at 0x105e6f470>), (<__main__.Eye object at 0x105e6ff60>, <__main__.Eye object at 0x105e6fdd8>), (<__main__.Eye object at 0x105e6f668>, <__main__.Eye object at 0x105e6fd30>), (<__main__.Eye object at 0x105e6fb00>, <__main__.Eye object at 0x105e6f828>), (<__main__.Eye object at 0x105e6f400>, <__main__.Eye object at 0x105e6f4a8>), (<__main__.Eye object at 0x105e6ffd0>, <__main__.Eye object at 0x105e6f4e0>), (<__main__.Eye object at 0x105e6f1d0>, <__main__.Eye object at 0x105e6f940>), (<__main__.Eye object at 0x105e6f278>, <__main__.Eye object at 0x105e6f8d0>), (<__main__.Eye object at 0x105e6f550>, <__main__.Eye object at 0x105e6f898>), (<__main__.Eye object at 0x105e6f2b0>, <__main__.Eye object at 0x105e6fcc0>), (<__main__.Eye object at 0x105e6fef0>, <__main__.Eye object at 0x105e6f048>), (<__main__.Eye object at 0x105e6fcf8>, <__main__.Eye object at 0x105e6fc18>), (<__main__.Eye object at 0x1063c02e8>, <__main__.Eye object at 0x1063c09e8>), (<__main__.Eye object at 0x1063c0fd0>, <__main__.Eye object at 0x1063c0cf8>), (<__main__.Eye object at 0x1063c0358>, <__main__.Eye object at 0x1063c0828>), (<__main__.Eye object at 0x1063c0470>, <__main__.Eye object at 0x1063c0048>), (<__main__.Eye object at 0x1063c0780>, <__main__.Eye object at 0x1063c0e80>), (<__main__.Eye object at 0x1063c03c8>, <__main__.Eye object at 0x1063c06d8>), (<__main__.Eye object at 0x1063c0d30>, <__main__.Eye object at 0x1063c0d68>), (<__main__.Eye object at 0x1063c0b38>, <__main__.Eye object at 0x1063c0ef0>), (<__main__.Eye object at 0x1063c0080>, <__main__.Eye object at 0x1063c0390>), (<__main__.Eye object at 0x1063c04e0>, <__main__.Eye object at 0x1063c0518>), (<__main__.Eye object at 0x1063c07b8>, <__main__.Eye object at 0x1063c0978>), (<__main__.Eye object at 0x1063c0748>, <__main__.Eye object at 0x1063c0630>), (<__main__.Eye object at 0x1063c0a90>, <__main__.Eye object at 0x1063c0208>), (<__main__.Eye object at 0x1063c0278>, <__main__.Eye object at 0x1063c0e48>), (<__main__.Eye object at 0x1063c0438>, <__main__.Eye object at 0x1063c0128>), (<__main__.Eye object at 0x1063c0f98>, <__main__.Eye object at 0x1063c05c0>), (<__main__.Eye object at 0x1063c0908>, <__main__.Eye object at 0x1063c0320>), (<__main__.Eye object at 0x1063c0668>, <__main__.Eye object at 0x1063c0240>), (<__main__.Eye object at 0x1063c0f60>, <__main__.Eye object at 0x1063c0b00>), (<__main__.Eye object at 0x1063c01d0>, <__main__.Eye object at 0x1063c0dd8>), (<__main__.Eye object at 0x1063c0160>, <__main__.Eye object at 0x1063c0c88>), (<__main__.Eye object at 0x1063c0be0>, <__main__.Eye object at 0x1063c0898>), (<__main__.Eye object at 0x1063c0ac8>, <__main__.Eye object at 0x1063c06a0>), (<__main__.Eye object at 0x1063c0c18>, <__main__.Eye object at 0x1063c02b0>), (<__main__.Eye object at 0x1063c08d0>, <__main__.Eye object at 0x1063c0710>), (<__main__.Eye object at 0x1063c0cc0>, <__main__.Eye object at 0x1063c0ba8>), (<__main__.Eye object at 0x1063c09b0>, <__main__.Eye object at 0x1063c00b8>), (<__main__.Eye object at 0x1063c0198>, <__main__.Eye object at 0x1063c0c50>), (<__main__.Eye object at 0x1063c0550>, <__main__.Eye object at 0x1063c00f0>), (<__main__.Eye object at 0x1063c0da0>, <__main__.Eye object at 0x1063c0e10>), (<__main__.Eye object at 0x1063c0f28>, <__main__.Eye object at 0x1063c0860>), (<__main__.Eye object at 0x1063c04a8>, <__main__.Eye object at 0x1063c0400>), (<__main__.Eye object at 0x1063c07f0>, <__main__.Eye object at 0x1063c0588>), (<__main__.Eye object at 0x1063c0a20>, <__main__.Eye object at 0x105fcde10>), (<__main__.Eye object at 0x105fcd828>, <__main__.Eye object at 0x105fcd438>), (<__main__.Eye object at 0x105fcdcc0>, <__main__.Eye object at 0x105fcdfd0>), (<__main__.Eye object at 0x105fcd8d0>, <__main__.Eye object at 0x105fcda20>), (<__main__.Eye object at 0x105fcd9e8>, <__main__.Eye object at 0x105fcd080>), (<__main__.Eye object at 0x105fcddd8>, <__main__.Eye object at 0x105fcdc88>), (<__main__.Eye object at 0x105fcdbe0>, <__main__.Eye object at 0x105fcdf28>), (<__main__.Eye object at 0x105fcdba8>, <__main__.Eye object at 0x105fcd6d8>), (<__main__.Eye object at 0x105fcd5f8>, <__main__.Eye object at 0x105fcd978>), (<__main__.Eye object at 0x105fcd470>, <__main__.Eye object at 0x105fcd780>), (<__main__.Eye object at 0x105fcdf60>, <__main__.Eye object at 0x105fcd630>), (<__main__.Eye object at 0x105fcdcf8>, <__main__.Eye object at 0x105fcdc50>), (<__main__.Eye object at 0x105fcdc18>, <__main__.Eye object at 0x105fcd160>), (<__main__.Eye object at 0x105fcd7f0>, <__main__.Eye object at 0x105fcd4a8>), (<__main__.Eye object at 0x105fcd908>, <__main__.Eye object at 0x105fcd550>), (<__main__.Eye object at 0x105fcd0b8>, <__main__.Eye object at 0x105fcd2b0>), (<__main__.Eye object at 0x105fcda58>, <__main__.Eye object at 0x105fcdb00>), (<__main__.Eye object at 0x105fcd3c8>, <__main__.Eye object at 0x105fcde80>), (<__main__.Eye object at 0x105fcd6a0>, <__main__.Eye object at 0x105fcd400>), (<__main__.Eye object at 0x105fcdd30>, <__main__.Eye object at 0x105fcd048>), (<__main__.Eye object at 0x105fcd748>, <__main__.Eye object at 0x105fcd588>), (<__main__.Eye object at 0x105fcda90>, <__main__.Eye object at 0x105fcd0f0>), (<__main__.Eye object at 0x105fcd5c0>, <__main__.Eye object at 0x105fcdb38>), (<__main__.Eye object at 0x105fcd860>, <__main__.Eye object at 0x105fcd2e8>), (<__main__.Eye object at 0x105fcde48>, <__main__.Eye object at 0x105fcd518>), (<__main__.Eye object at 0x105fcd320>, <__main__.Eye object at 0x105fcd9b0>), (<__main__.Eye object at 0x105fcdac8>, <__main__.Eye object at 0x105fcd4e0>), (<__main__.Eye object at 0x105fcd278>, <__main__.Eye object at 0x105fcdef0>), (<__main__.Eye object at 0x105fcd240>, <__main__.Eye object at 0x105fcd198>), (<__main__.Eye object at 0x105fcd898>, <__main__.Eye object at 0x105fcdd68>), (<__main__.Eye object at 0x105fcdeb8>, <__main__.Eye object at 0x105fcdf98>), (<__main__.Eye object at 0x105fcd1d0>, <__main__.Eye object at 0x105fcd390>), (<__main__.Eye object at 0x105fcd358>, <__main__.Eye object at 0x105fd5c50>), (<__main__.Eye object at 0x105fd51d0>, <__main__.Eye object at 0x105fd57b8>), (<__main__.Eye object at 0x105fd52b0>, <__main__.Eye object at 0x105fd54a8>), (<__main__.Eye object at 0x105fd55c0>, <__main__.Eye object at 0x105fd59b0>), (<__main__.Eye object at 0x105fd5710>, <__main__.Eye object at 0x105fd5ef0>), (<__main__.Eye object at 0x105fd5860>, <__main__.Eye object at 0x105fd5748>), (<__main__.Eye object at 0x105fd5940>, <__main__.Eye object at 0x105fd5630>), (<__main__.Eye object at 0x105fd5ac8>, <__main__.Eye object at 0x105fd5a20>), (<__main__.Eye object at 0x105fd5eb8>, <__main__.Eye object at 0x105fd5780>), (<__main__.Eye object at 0x105fd58d0>, <__main__.Eye object at 0x105fd5828>), (<__main__.Eye object at 0x105fd5f98>, <__main__.Eye object at 0x105fd56d8>), (<__main__.Eye object at 0x105fd5e80>, <__main__.Eye object at 0x105fd5438>), (<__main__.Eye object at 0x105fd5080>, <__main__.Eye object at 0x105fd5400>), (<__main__.Eye object at 0x105fd5cf8>, <__main__.Eye object at 0x105fd50f0>), (<__main__.Eye object at 0x105fd5da0>, <__main__.Eye object at 0x105fd5d68>), (<__main__.Eye object at 0x105fd5320>, <__main__.Eye object at 0x105fd5048>), (<__main__.Eye object at 0x105fd5e10>, <__main__.Eye object at 0x105fd5fd0>), (<__main__.Eye object at 0x105fd53c8>, <__main__.Eye object at 0x105fd5c18>), (<__main__.Eye object at 0x105fd5470>, <__main__.Eye object at 0x105fd5518>), (<__main__.Eye object at 0x105fd5390>, <__main__.Eye object at 0x105fd5898>), (<__main__.Eye object at 0x105fd5dd8>, <__main__.Eye object at 0x105fd5668>), (<__main__.Eye object at 0x105fd56a0>, <__main__.Eye object at 0x105fd5e48>), (<__main__.Eye object at 0x105fd5d30>, <__main__.Eye object at 0x105fd5b38>), (<__main__.Eye object at 0x105fd5a90>, <__main__.Eye object at 0x105fd5160>), (<__main__.Eye object at 0x105fd5cc0>, <__main__.Eye object at 0x105fd5b70>), (<__main__.Eye object at 0x105fd59e8>, <__main__.Eye object at 0x105fd5ba8>), (<__main__.Eye object at 0x105fd5588>, <__main__.Eye object at 0x105fd5198>), (<__main__.Eye object at 0x105fd55f8>, <__main__.Eye object at 0x105fd5278>), (<__main__.Eye object at 0x105fd5550>, <__main__.Eye object at 0x105fd5908>), (<__main__.Eye object at 0x105fd54e0>, <__main__.Eye object at 0x105fd5978>), (<__main__.Eye object at 0x105fd5240>, <__main__.Eye object at 0x105fd5f28>), (<__main__.Eye object at 0x105fd5c88>, <__main__.Eye object at 0x105fd5128>), (<__main__.Eye object at 0x105fd5b00>, <__main__.Eye object at 0x105fd5a58>), (<__main__.Eye object at 0x105fd57f0>, <__main__.Eye object at 0x105fd50b8>), (<__main__.Eye object at 0x105fd5208>, <__main__.Eye object at 0x105fd5f60>), (<__main__.Eye object at 0x105fd5be0>, <__main__.Eye object at 0x105fd5358>), (<__main__.Eye object at 0x106808080>, <__main__.Eye object at 0x106808400>), (<__main__.Eye object at 0x106808cf8>, <__main__.Eye object at 0x1068084a8>), (<__main__.Eye object at 0x106808208>, <__main__.Eye object at 0x106808da0>), (<__main__.Eye object at 0x106808d68>, <__main__.Eye object at 0x106808b00>), (<__main__.Eye object at 0x106808048>, <__main__.Eye object at 0x1068085f8>), (<__main__.Eye object at 0x106808748>, <__main__.Eye object at 0x1068080f0>), (<__main__.Eye object at 0x106808550>, <__main__.Eye object at 0x1068082b0>), (<__main__.Eye object at 0x1068087b8>, <__main__.Eye object at 0x106808668>), (<__main__.Eye object at 0x106808198>, <__main__.Eye object at 0x106808eb8>), (<__main__.Eye object at 0x106808d30>, <__main__.Eye object at 0x106808358>), (<__main__.Eye object at 0x106808780>, <__main__.Eye object at 0x106808588>), (<__main__.Eye object at 0x1068089b0>, <__main__.Eye object at 0x106808630>), (<__main__.Eye object at 0x1068086a0>, <__main__.Eye object at 0x106808898>), (<__main__.Eye object at 0x106808470>, <__main__.Eye object at 0x106808e10>), (<__main__.Eye object at 0x106808dd8>, <__main__.Eye object at 0x106808c50>), (<__main__.Eye object at 0x1068080b8>, <__main__.Eye object at 0x106808828>), (<__main__.Eye object at 0x1068085c0>, <__main__.Eye object at 0x106808fd0>), (<__main__.Eye object at 0x106808908>, <__main__.Eye object at 0x1068084e0>), (<__main__.Eye object at 0x106808ef0>, <__main__.Eye object at 0x106808518>), (<__main__.Eye object at 0x1068089e8>, <__main__.Eye object at 0x106808e80>), (<__main__.Eye object at 0x1068081d0>, <__main__.Eye object at 0x106808128>), (<__main__.Eye object at 0x106808a20>, <__main__.Eye object at 0x106808f60>), (<__main__.Eye object at 0x1068088d0>, <__main__.Eye object at 0x106808b70>), (<__main__.Eye object at 0x106808ac8>, <__main__.Eye object at 0x1068087f0>), (<__main__.Eye object at 0x106808390>, <__main__.Eye object at 0x106808ba8>), (<__main__.Eye object at 0x106808e48>, <__main__.Eye object at 0x106808710>), (<__main__.Eye object at 0x1068082e8>, <__main__.Eye object at 0x106808be0>), (<__main__.Eye object at 0x106808978>, <__main__.Eye object at 0x106808c18>), (<__main__.Eye object at 0x106808940>, <__main__.Eye object at 0x106808860>), (<__main__.Eye object at 0x1068086d8>, <__main__.Eye object at 0x1068083c8>), (<__main__.Eye object at 0x106808f28>, <__main__.Eye object at 0x106808160>), (<__main__.Eye object at 0x106808a58>, <__main__.Eye object at 0x106808320>), (<__main__.Eye object at 0x106808438>, <__main__.Eye object at 0x106808b38>), (<__main__.Eye object at 0x1063d45f8>, <__main__.Eye object at 0x1063d4a58>), (<__main__.Eye object at 0x1063d4c50>, <__main__.Eye object at 0x1063d4048>), (<__main__.Eye object at 0x1063d4470>, <__main__.Eye object at 0x1063d4cc0>), (<__main__.Eye object at 0x1063d4978>, <__main__.Eye object at 0x1063d4240>), (<__main__.Eye object at 0x1063d4a20>, <__main__.Eye object at 0x1063d4780>), (<__main__.Eye object at 0x1063d4e10>, <__main__.Eye object at 0x1063d46a0>), (<__main__.Eye object at 0x1063d4860>, <__main__.Eye object at 0x1063d4198>), (<__main__.Eye object at 0x1063d4a90>, <__main__.Eye object at 0x1063d48d0>), (<__main__.Eye object at 0x1063d4cf8>, <__main__.Eye object at 0x1063d4fd0>), (<__main__.Eye object at 0x1063d42e8>, <__main__.Eye object at 0x1063d40b8>), (<__main__.Eye object at 0x1063d4080>, <__main__.Eye object at 0x1063d44a8>), (<__main__.Eye object at 0x1063d4ba8>, <__main__.Eye object at 0x1063d42b0>), (<__main__.Eye object at 0x1063d4908>, <__main__.Eye object at 0x1063d4278>), (<__main__.Eye object at 0x1063d41d0>, <__main__.Eye object at 0x1063d4710>), (<__main__.Eye object at 0x1063d4320>, <__main__.Eye object at 0x1063d4128>), (<__main__.Eye object at 0x1063d4400>, <__main__.Eye object at 0x1063d40f0>), (<__main__.Eye object at 0x1063d4f28>, <__main__.Eye object at 0x1063d4f60>), (<__main__.Eye object at 0x1063d4c88>, <__main__.Eye object at 0x1063d4588>), (<__main__.Eye object at 0x1063d4940>, <__main__.Eye object at 0x1063d4668>), (<__main__.Eye object at 0x1063d4518>, <__main__.Eye object at 0x1063d49b0>), (<__main__.Eye object at 0x1063d4ef0>, <__main__.Eye object at 0x106488a20>), (<__main__.Eye object at 0x106488ba8>, <__main__.Eye object at 0x1064888d0>), (<__main__.Eye object at 0x106488898>, <__main__.Eye object at 0x106488cc0>), (<__main__.Eye object at 0x1064887f0>, <__main__.Eye object at 0x106488320>), (<__main__.Eye object at 0x106488048>, <__main__.Eye object at 0x106488fd0>), (<__main__.Eye object at 0x106488a90>, <__main__.Eye object at 0x106488d30>), (<__main__.Eye object at 0x1064882b0>, <__main__.Eye object at 0x106488978>), (<__main__.Eye object at 0x106488e48>, <__main__.Eye object at 0x1064887b8>), (<__main__.Eye object at 0x1064881d0>, <__main__.Eye object at 0x106488470>), (<__main__.Eye object at 0x106488b70>, <__main__.Eye object at 0x106488e80>), (<__main__.Eye object at 0x106488358>, <__main__.Eye object at 0x106488588>), (<__main__.Eye object at 0x106488710>, <__main__.Eye object at 0x1064885c0>), (<__main__.Eye object at 0x106488c88>, <__main__.Eye object at 0x1064889b0>), (<__main__.Eye object at 0x106488a58>, <__main__.Eye object at 0x106488240>), (<__main__.Eye object at 0x106488198>, <__main__.Eye object at 0x1064885f8>), (<__main__.Eye object at 0x1064880f0>, <__main__.Eye object at 0x106488630>), (<__main__.Eye object at 0x1064889e8>, <__main__.Eye object at 0x106488e10>), (<__main__.Eye object at 0x1064884e0>, <__main__.Eye object at 0x106488b00>), (<__main__.Eye object at 0x106488400>, <__main__.Eye object at 0x106488828>), (<__main__.Eye object at 0x1064884a8>, <__main__.Eye object at 0x106488908>), (<__main__.Eye object at 0x106488668>, <__main__.Eye object at 0x1064886d8>), (<__main__.Eye object at 0x106488390>, <__main__.Eye object at 0x106488278>), (<__main__.Eye object at 0x106488438>, <__main__.Eye object at 0x106488160>), (<__main__.Eye object at 0x106488dd8>, <__main__.Eye object at 0x106488be0>), (<__main__.Eye object at 0x1064880b8>, <__main__.Eye object at 0x106488080>), (<__main__.Eye object at 0x1064882e8>, <__main__.Eye object at 0x106488748>), (<__main__.Eye object at 0x106488c18>, <__main__.Eye object at 0x106488d68>), (<__main__.Eye object at 0x106488550>, <__main__.Eye object at 0x1064886a0>), (<__main__.Eye object at 0x106488780>, <__main__.Eye object at 0x106488eb8>), (<__main__.Eye object at 0x106488ac8>, <__main__.Eye object at 0x106488f98>), (<__main__.Eye object at 0x1064883c8>, <__main__.Eye object at 0x106488b38>), (<__main__.Eye object at 0x106488f28>, <__main__.Eye object at 0x106488f60>), (<__main__.Eye object at 0x106488cf8>, <__main__.Eye object at 0x106488da0>), (<__main__.Eye object at 0x106488860>, <__main__.Eye object at 0x106488ef0>), (<__main__.Eye object at 0x106488940>, <__main__.Eye object at 0x106488128>), (<__main__.Eye object at 0x1066ddbe0>, <__main__.Eye object at 0x1066ddcf8>), (<__main__.Eye object at 0x1066dd5c0>, <__main__.Eye object at 0x1066dd668>), (<__main__.Eye object at 0x1066ddc18>, <__main__.Eye object at 0x1066dd470>), (<__main__.Eye object at 0x1066dd080>, <__main__.Eye object at 0x1066dd240>), (<__main__.Eye object at 0x1066dda90>, <__main__.Eye object at 0x1066dd6d8>), (<__main__.Eye object at 0x1066dda58>, <__main__.Eye object at 0x1066dda20>), (<__main__.Eye object at 0x1066dd9b0>, <__main__.Eye object at 0x1066dd710>), (<__main__.Eye object at 0x1066ddef0>, <__main__.Eye object at 0x1066dde10>), (<__main__.Eye object at 0x1066dd0b8>, <__main__.Eye object at 0x1066dd6a0>), (<__main__.Eye object at 0x1066dd780>, <__main__.Eye object at 0x1066ddb38>), (<__main__.Eye object at 0x1066dd1d0>, <__main__.Eye object at 0x1066ddb00>), (<__main__.Eye object at 0x1066dd4e0>, <__main__.Eye object at 0x1066dd278>), (<__main__.Eye object at 0x1066dd5f8>, <__main__.Eye object at 0x1066dd400>), (<__main__.Eye object at 0x1066dd2b0>, <__main__.Eye object at 0x1066dd630>), (<__main__.Eye object at 0x1066ddf60>, <__main__.Eye object at 0x1066dde48>), (<__main__.Eye object at 0x1066ddac8>, <__main__.Eye object at 0x1066ddcc0>), (<__main__.Eye object at 0x1066dd320>, <__main__.Eye object at 0x1066dd208>), (<__main__.Eye object at 0x1066ddc50>, <__main__.Eye object at 0x1066ddb70>), (<__main__.Eye object at 0x1066dd048>, <__main__.Eye object at 0x1066dde80>), (<__main__.Eye object at 0x1066dd9e8>, <__main__.Eye object at 0x1066ddfd0>), (<__main__.Eye object at 0x1066ddeb8>, <__main__.Eye object at 0x1066dd390>), (<__main__.Eye object at 0x1066ddf98>, <__main__.Eye object at 0x1066ddd30>), (<__main__.Eye object at 0x1066dd8d0>, <__main__.Eye object at 0x1066dd7b8>), (<__main__.Eye object at 0x1066ddda0>, <__main__.Eye object at 0x1066dd588>), (<__main__.Eye object at 0x1066dd198>, <__main__.Eye object at 0x1066dd748>), (<__main__.Eye object at 0x1066dd438>, <__main__.Eye object at 0x1066dd940>), (<__main__.Eye object at 0x1066dd2e8>, <__main__.Eye object at 0x1066dd550>), (<__main__.Eye object at 0x1066dd978>, <__main__.Eye object at 0x1066ddf28>), (<__main__.Eye object at 0x1066dd128>, <__main__.Eye object at 0x1066dd7f0>), (<__main__.Eye object at 0x1066dddd8>, <__main__.Eye object at 0x1066dd908>), (<__main__.Eye object at 0x1066ddd68>, <__main__.Eye object at 0x1066dd3c8>), (<__main__.Eye object at 0x1066dd358>, <__main__.Eye object at 0x1066dd4a8>), (<__main__.Eye object at 0x1066dd860>, <__main__.Eye object at 0x1066ddba8>), (<__main__.Eye object at 0x1066dd160>, <__main__.Eye object at 0x1066dd0f0>), (<__main__.Eye object at 0x1066dd828>, <__main__.Eye object at 0x1066dd518>), (<__main__.Eye object at 0x10636c358>, <__main__.Eye object at 0x10636c320>), (<__main__.Eye object at 0x10636c0b8>, <__main__.Eye object at 0x10636c710>), (<__main__.Eye object at 0x10636cd30>, <__main__.Eye object at 0x10636ceb8>), (<__main__.Eye object at 0x10636ce48>, <__main__.Eye object at 0x10636c278>), (<__main__.Eye object at 0x10636ce80>, <__main__.Eye object at 0x10636c198>), (<__main__.Eye object at 0x10636cba8>, <__main__.Eye object at 0x10636ccc0>), (<__main__.Eye object at 0x10636c550>, <__main__.Eye object at 0x10636c8d0>), (<__main__.Eye object at 0x10636c5f8>, <__main__.Eye object at 0x10636c2e8>), (<__main__.Eye object at 0x10636c940>, <__main__.Eye object at 0x10636c208>), (<__main__.Eye object at 0x10636cb00>, <__main__.Eye object at 0x10636c470>), (<__main__.Eye object at 0x10636c860>, <__main__.Eye object at 0x10636cac8>), (<__main__.Eye object at 0x10636ca20>, <__main__.Eye object at 0x10636ca90>), (<__main__.Eye object at 0x10636c4a8>, <__main__.Eye object at 0x10636c1d0>), (<__main__.Eye object at 0x10636c240>, <__main__.Eye object at 0x10636c908>), (<__main__.Eye object at 0x10636c6a0>, <__main__.Eye object at 0x10636cb38>), (<__main__.Eye object at 0x10636c128>, <__main__.Eye object at 0x10636c588>), (<__main__.Eye object at 0x10636ca58>, <__main__.Eye object at 0x10636cc50>), (<__main__.Eye object at 0x10636c898>, <__main__.Eye object at 0x10636c5c0>), (<__main__.Eye object at 0x10636cd68>, <__main__.Eye object at 0x10636c390>), (<__main__.Eye object at 0x10636c3c8>, <__main__.Eye object at 0x10636cc88>), (<__main__.Eye object at 0x10636c4e0>, <__main__.Eye object at 0x10636c6d8>), (<__main__.Eye object at 0x10636c748>, <__main__.Eye object at 0x10636cda0>), (<__main__.Eye object at 0x10636cc18>, <__main__.Eye object at 0x10636c048>), (<__main__.Eye object at 0x10636c7f0>, <__main__.Eye object at 0x10636c780>), (<__main__.Eye object at 0x10636ce10>, <__main__.Eye object at 0x10636ccf8>), (<__main__.Eye object at 0x10636cbe0>, <__main__.Eye object at 0x10636cfd0>), (<__main__.Eye object at 0x10636cf98>, <__main__.Eye object at 0x10636c2b0>), (<__main__.Eye object at 0x10636c828>, <__main__.Eye object at 0x10636cef0>), (<__main__.Eye object at 0x10636cb70>, <__main__.Eye object at 0x10636c518>), (<__main__.Eye object at 0x10636c438>, <__main__.Eye object at 0x10636c7b8>), (<__main__.Eye object at 0x10636c978>, <__main__.Eye object at 0x10636c160>), (<__main__.Eye object at 0x10636c0f0>, <__main__.Eye object at 0x10636c9b0>), (<__main__.Eye object at 0x10636c400>, <__main__.Eye object at 0x10636cf60>), (<__main__.Eye object at 0x10636c080>, <__main__.Eye object at 0x105fb0668>), (<__main__.Eye object at 0x105fb0358>, <__main__.Eye object at 0x105fb0630>), (<__main__.Eye object at 0x105fb0fd0>, <__main__.Eye object at 0x105fb00b8>), (<__main__.Eye object at 0x105fb0160>, <__main__.Eye object at 0x105fb0a90>), (<__main__.Eye object at 0x105fb0278>, <__main__.Eye object at 0x105fb04e0>), (<__main__.Eye object at 0x105fb0080>, <__main__.Eye object at 0x105fb0e48>), (<__main__.Eye object at 0x105fb0b00>, <__main__.Eye object at 0x105fb0940>), (<__main__.Eye object at 0x105fb0e80>, <__main__.Eye object at 0x105fb07b8>), (<__main__.Eye object at 0x105fb0eb8>, <__main__.Eye object at 0x105fb0780>), (<__main__.Eye object at 0x105fb0c50>, <__main__.Eye object at 0x105fb05f8>), (<__main__.Eye object at 0x105fb0710>, <__main__.Eye object at 0x105fb0400>), (<__main__.Eye object at 0x105fb0748>, <__main__.Eye object at 0x105fb0240>), (<__main__.Eye object at 0x105fb0518>, <__main__.Eye object at 0x105fb06a0>), (<__main__.Eye object at 0x105fb0470>, <__main__.Eye object at 0x105fb0e10>), (<__main__.Eye object at 0x105fb0c18>, <__main__.Eye object at 0x105fb05c0>), (<__main__.Eye object at 0x105fb0860>, <__main__.Eye object at 0x105fb0128>), (<__main__.Eye object at 0x105fb0b70>, <__main__.Eye object at 0x105fb00f0>), (<__main__.Eye object at 0x105fb0390>, <__main__.Eye object at 0x105fb0ef0>), (<__main__.Eye object at 0x105fb0f60>, <__main__.Eye object at 0x105fb0a58>), (<__main__.Eye object at 0x105fb08d0>, <__main__.Eye object at 0x105fb0048>), (<__main__.Eye object at 0x105fb09b0>, <__main__.Eye object at 0x105fb0c88>), (<__main__.Eye object at 0x105fb0da0>, <__main__.Eye object at 0x105fb09e8>), (<__main__.Eye object at 0x105fb0cf8>, <__main__.Eye object at 0x105fb0208>), (<__main__.Eye object at 0x105fb0f28>, <__main__.Eye object at 0x105fb0320>), (<__main__.Eye object at 0x105fb0198>, <__main__.Eye object at 0x105fb0828>), (<__main__.Eye object at 0x105fb07f0>, <__main__.Eye object at 0x105fb0f98>), (<__main__.Eye object at 0x105fb0be0>, <__main__.Eye object at 0x105fb0438>), (<__main__.Eye object at 0x105fb0550>, <__main__.Eye object at 0x105fb0d68>), (<__main__.Eye object at 0x105fb0dd8>, <__main__.Eye object at 0x105fb0978>), (<__main__.Eye object at 0x105fb03c8>, <__main__.Eye object at 0x105fb0588>), (<__main__.Eye object at 0x105fb01d0>, <__main__.Eye object at 0x105fb0b38>), (<__main__.Eye object at 0x105fb04a8>, <__main__.Eye object at 0x105fb0a20>), (<__main__.Eye object at 0x105e79278>, <__main__.Eye object at 0x105e79208>), (<__main__.Eye object at 0x105e79d68>, <__main__.Eye object at 0x105e79780>), (<__main__.Eye object at 0x105e79b38>, <__main__.Eye object at 0x105e79320>), (<__main__.Eye object at 0x105e79710>, <__main__.Eye object at 0x105e79390>), (<__main__.Eye object at 0x105e79860>, <__main__.Eye object at 0x105e79358>), (<__main__.Eye object at 0x105e79a90>, <__main__.Eye object at 0x105e79fd0>), (<__main__.Eye object at 0x105e79eb8>, <__main__.Eye object at 0x105e795c0>), (<__main__.Eye object at 0x105e79a20>, <__main__.Eye object at 0x105e79be0>), (<__main__.Eye object at 0x105e79748>, <__main__.Eye object at 0x105e790b8>), (<__main__.Eye object at 0x105e79080>, <__main__.Eye object at 0x105e797f0>), (<__main__.Eye object at 0x105e791d0>, <__main__.Eye object at 0x105e79da0>), (<__main__.Eye object at 0x105e79f98>, <__main__.Eye object at 0x105e79ba8>), (<__main__.Eye object at 0x105e798d0>, <__main__.Eye object at 0x105e799b0>), (<__main__.Eye object at 0x105e79e80>, <__main__.Eye object at 0x105e79cf8>), (<__main__.Eye object at 0x105e79ef0>, <__main__.Eye object at 0x105e79198>), (<__main__.Eye object at 0x105e790f0>, <__main__.Eye object at 0x105e79a58>), (<__main__.Eye object at 0x105e79f28>, <__main__.Eye object at 0x105e79400>), (<__main__.Eye object at 0x105e79898>, <__main__.Eye object at 0x105e79240>), (<__main__.Eye object at 0x105e796d8>, <__main__.Eye object at 0x105e794e0>), (<__main__.Eye object at 0x105e796a0>, <__main__.Eye object at 0x105e79c50>), (<__main__.Eye object at 0x105e795f8>, <__main__.Eye object at 0x105e79470>), (<__main__.Eye object at 0x105e793c8>, <__main__.Eye object at 0x105e79048>), (<__main__.Eye object at 0x105e79e10>, <__main__.Eye object at 0x105e799e8>), (<__main__.Eye object at 0x105e79518>, <__main__.Eye object at 0x105e79160>), (<__main__.Eye object at 0x105e79dd8>, <__main__.Eye object at 0x105e79128>), (<__main__.Eye object at 0x105e79ac8>, <__main__.Eye object at 0x105e79908>)]\n"
     ]
    },
    {
     "name": "stdout",
     "output_type": "stream",
     "text": [
      "Prey caught\n",
      "[7.631297320440243, 8.775540903631116]\n",
      "Prey caught\n",
      "[0.4247943161821265, 2.217709392091771]\n",
      "Prey caught\n",
      "[8.119528940070685, 12.653553070718559]\n",
      "Prey caught\n",
      "[10.55929916790747, 19.562288075564698]\n",
      "Prey caught\n",
      "[12.593924110484947, 17.804521069323027]\n",
      "Prey caught\n",
      "[8.32681073823737, 11.254311389955326]\n",
      "Prey caught\n",
      "[17.660279639316727, 5.817076300131466]\n",
      "Prey caught\n",
      "[1.3370227657461413, 13.23699029372083]\n",
      "Prey caught\n",
      "[16.912759171054553, 10.894800526884469]\n",
      "Prey caught\n",
      "[16.372794417350296, 13.456215170017641]\n",
      "Prey caught\n",
      "[1.7032325565734778, 7.870409998163751]\n",
      "Prey caught\n",
      "[10.984366061642811, 7.562252182887499]\n",
      "Prey caught\n",
      "[20.54639021126299, 10.285689961078745]\n",
      "Prey caught\n",
      "[4.688825216570312, 8.579390969131355]\n",
      "Prey caught\n",
      "[9.611256638942276, 17.271085390531304]\n",
      "Prey caught\n",
      "[5.419966783139301, 11.535391835482635]\n",
      "Prey caught\n",
      "[8.68967176967683, 15.214883818360269]\n",
      "Prey caught\n",
      "[10.820732954925209, 4.827605888602369]\n",
      "Prey caught\n",
      "[8.122905102905984, 8.575947423580933]\n",
      "Prey caught\n",
      "[12.365660106943505, 13.461154420847262]\n",
      "Prey caught\n",
      "[0.20123082519521632, 12.964403661508504]\n",
      "Prey caught\n",
      "[11.915871734411631, 4.035110704679259]\n",
      "Prey caught\n",
      "[16.08251913155177, 11.042554613873252]\n",
      "Prey caught\n",
      "[7.412557936760815, 10.935016060192835]\n",
      "Prey caught\n",
      "[8.215097942314584, 18.957709327085272]\n",
      "Prey caught\n",
      "[0.2938657063595561, 6.772890888071851]\n",
      "Prey caught\n",
      "[9.505195910207247, 14.863004688463436]\n",
      "Prey caught\n",
      "[12.611702374319131, 11.314364265850797]\n",
      "Prey caught\n",
      "[0.1451319224894281, 7.336074816014486]\n",
      "Prey caught\n",
      "[10.668286669089515, 12.013483166834195]\n",
      "Prey caught\n",
      "[5.936403124469046, 13.934967192638354]\n",
      "Prey caught\n",
      "[15, 6]\n",
      "Prey caught\n",
      "[0.06096417441326962, 0.7359401394354748]\n",
      "Prey caught\n",
      "[0.13620205202082025, 7.00598039368296]\n",
      "Prey caught\n",
      "[1.2425356250363329, 4.970142500145332]\n",
      "Prey caught\n",
      "[0.1088421572433681, 4.787775192110194]\n",
      "Prey caught\n",
      "[0.2947121416512062, 2.9128776625108266]\n",
      "Prey caught\n",
      "[3.757521117939872, 7.3429405200854]\n",
      "Prey caught\n",
      "[6.76046648939008, 9.908852440447879]\n",
      "Prey caught\n",
      "[3.3599664710482164, 9.761707161471739]\n",
      "Prey caught\n",
      "[0.522589748114177, 3.1696208777665564]\n",
      "Prey caught\n",
      "[1.1586371484321543, 8.793740263738584]\n",
      "Prey caught\n",
      "[0.6679121616487749, 11.990929894760573]\n",
      "Prey caught\n",
      "[13.854017053957485, 7.5202450110763]\n",
      "Prey caught\n",
      "[11.676518782510056, 11.736425377693566]\n",
      "Prey caught\n",
      "[8.967732179288374, 16.481758377452284]\n",
      "Prey caught\n",
      "[14.786450126659904, 12.614833566237328]\n",
      "Prey caught\n",
      "[0.4246833197057941, 1.8766392131519645]\n",
      "Prey caught\n",
      "[16.327092618214042, 12.891418745158953]\n",
      "Prey caught\n",
      "[0.5928875517842407, 11.88905615275912]\n",
      "Prey caught\n",
      "[0.6228723990730909, 4.768162867382003]\n",
      "Prey caught\n",
      "[16.820855000871994, 5.4552137502179985]\n",
      "Prey caught\n",
      "[17.38182669774061, 8.082201678141839]\n",
      "Prey caught\n",
      "[0.7361311750507097, 15.61497679588472]\n",
      "Prey caught\n",
      "[10.414213562373096, 10.414213562373096]\n",
      "Prey caught\n",
      "[14.308716555024326, 16.65564275581535]\n",
      "Prey caught\n",
      "[12.223615790712545, 17.814311039526128]\n",
      "Prey caught\n",
      "[8.40752463917198, 6.789897027759231]\n",
      "Prey caught\n",
      "[8, 19]\n",
      "Prey caught\n",
      "[0.32917672658604946, 8.11696755079362]\n",
      "Prey caught\n",
      "[13.375320471049909, 15.452063686543987]\n",
      "Prey caught\n",
      "[8.805617202680036, 13.206637546627006]\n",
      "Prey caught\n",
      "[10.554841684867776, 3.7926295498813745]\n",
      "Prey caught\n",
      "[9.084024729624318, 9.198951099778519]\n",
      "Prey caught\n",
      "[12.704886342636696, 5.507899385844949]\n",
      "Prey caught\n",
      "[0.7304448958378036, 11.691162304423495]\n",
      "Prey caught\n",
      "[0.0784180650173183, 14.796391419810739]\n",
      "Prey caught\n",
      "[9.08769158508435, 14.932526864642782]\n",
      "Prey caught\n",
      "[9.150226276372416, 15.372901759951835]\n",
      "Prey caught\n",
      "[5.312522453340142, 8.263718529393005]\n",
      "Prey caught\n",
      "[8.272517117345926, 9.593874355019196]\n",
      "Prey caught\n",
      "[11.310310226643635, 10.4187346367122]\n"
     ]
    }
   ],
   "source": [
    "# So we are going to have a predator population that will one on one with a prey population at random\n",
    "# The eye_placement for 1 and 2 will be random initally, but will undergo both breeding and mutation\n",
    "init_pop = 500\n",
    "prey_population = [Evolve.random_eye_pair() for item in range(init_pop)]\n",
    "pred_population = [Evolve.random_eye_pair() for item in range(init_pop)]\n",
    "print(prey_population)\n",
    "while(init_pop > 10):\n",
    "    # Select 50% of the population\n",
    "    results = [(eye_pair_pair[0], eye_pair_pair[1], simulation_control(Grid, Animal, eye_pair_pair[0], eye_pair_pair[1]).start_sim())  for eye_pair_pair in zip(prey_population, pred_population)]    \n",
    "    prey_population = [result[0] for result in sorted(results, key=lambda result: result[2][0])[:int(init_pop*.5)]]\n",
    "    pred_population = [result[1] for result in sorted(results, key=lambda result: result[2][1])[:int(init_pop*.5)]]\n",
    "\n",
    "    #  Then select 10% randomly\n",
    "    raw_prey = [result[0] for result in results]\n",
    "    raw_pred = [result[1] for result in results]\n",
    "    random.shuffle(raw_prey)\n",
    "    random.shuffle(raw_pred)\n",
    "    prey_population += raw_prey[:10]\n",
    "    pred_population += raw_pred[:10]\n",
    "    if(len(prey_population) % 2 != 0):\n",
    "        prey_population.pop()\n",
    "    if(len(pred_population) % 2 != 0):\n",
    "        pred_population.pop()\n",
    "    half_index = int(len(prey_population)/2)\n",
    "    prey_pairs = zip(prey_population[:half_index], prey_population[half_index:])\n",
    "    pred_pairs = zip(pred_population[:half_index], pred_population[half_index:])\n",
    "\n",
    "    init_pop = init_pop * .6\n",
    "    if(init_pop <= 10):\n",
    "        break\n",
    "    # Eyes mix\n",
    "    child_eye_preys = [Evolve.breed_eye(eye_pair[0], eye_pair[1]) for eye_pair in prey_pairs]\n",
    "    child_eye_preds = [Evolve.breed_eye(eye_pair[0], eye_pair[1]) for eye_pair in pred_pairs]\n",
    "    prey_population = [Evolve.mutate(eye_pair) for eye_pair in child_eye_preys + child_eye_preys[:9]]\n",
    "    pred_population = [Evolve.mutate(eye_pair) for eye_pair in child_eye_preds + child_eye_preds[:9]]\n",
    "    # Run them through potential mutation\n"
   ]
  },
  {
   "cell_type": "code",
   "execution_count": 571,
   "metadata": {
    "scrolled": true
   },
   "outputs": [
    {
     "data": {
      "text/plain": [
       "[(-0.7897545925747494, -0.09516155129146871),\n",
       " (-0.39209900626412014, -0.10457040033951781),\n",
       " (-0.3937751916646841, -0.07997581135352616),\n",
       " (-0.6608882586410904, -0.04709410117825547),\n",
       " (-0.7464790380870561, -0.05168493223103515),\n",
       " (-0.7464790380870561, -0.05168493223103515),\n",
       " (-1.0418004961835874, 0.01576845696238979),\n",
       " (-0.6608882586410904, -0.04709410117825547),\n",
       " (-0.7897545925747494, -0.09516155129146871),\n",
       " (-0.39209900626412014, -0.10457040033951781),\n",
       " (-0.3937751916646841, -0.07997581135352616),\n",
       " (-0.6608882586410904, -0.04709410117825547),\n",
       " (-0.7464790380870561, -0.05168493223103515),\n",
       " (-0.7464790380870561, -0.05168493223103515),\n",
       " (-1.0418004961835874, 0.01576845696238979),\n",
       " (-0.6608882586410904, -0.04709410117825547)]"
      ]
     },
     "execution_count": 571,
     "metadata": {},
     "output_type": "execute_result"
    }
   ],
   "source": [
    "eye_lengths = [(eye_pair[0].eye_arclength, eye_pair[1].eye_arclength) for eye_pair in pred_population]"
   ]
  },
  {
   "cell_type": "code",
   "execution_count": 573,
   "metadata": {},
   "outputs": [
    {
     "data": {
      "text/plain": [
       "((<__main__.Eye at 0x101c17b00>, <__main__.Eye at 0x101c17080>),\n",
       " (<__main__.Eye at 0x105dfa9b0>, <__main__.Eye at 0x105dfa6d8>),\n",
       " (85.38003975565279, -85.38003975565279))"
      ]
     },
     "execution_count": 573,
     "metadata": {},
     "output_type": "execute_result"
    }
   ],
   "source": [
    "results[0]"
   ]
  },
  {
   "cell_type": "code",
   "execution_count": 577,
   "metadata": {
    "scrolled": true
   },
   "outputs": [
    {
     "name": "stdout",
     "output_type": "stream",
     "text": [
      "Prey Results\n",
      "Score:  -85.38003975565279\n"
     ]
    },
    {
     "data": {
      "image/png": "[encoded data removed]",
      "text/plain": [
       "<matplotlib.figure.Figure at 0x106647a90>"
      ]
     },
     "metadata": {},
     "output_type": "display_data"
    },
    {
     "name": "stdout",
     "output_type": "stream",
     "text": [
      "Pred Results\n",
      "Score:  85.38003975565279\n"
     ]
    },
    {
     "data": {
      "image/png": "[encoded data removed]",
      "text/plain": [
       "<matplotlib.figure.Figure at 0x105fb5f60>"
      ]
     },
     "metadata": {},
     "output_type": "display_data"
    },
    {
     "name": "stdout",
     "output_type": "stream",
     "text": [
      "Prey Results\n",
      "Score:  -30.429703109300906\n"
     ]
    },
    {
     "data": {
      "image/png": "[encoded data removed]",
      "text/plain": [
       "<matplotlib.figure.Figure at 0x106919ef0>"
      ]
     },
     "metadata": {},
     "output_type": "display_data"
    },
    {
     "name": "stdout",
     "output_type": "stream",
     "text": [
      "Pred Results\n",
      "Score:  30.429703109300906\n"
     ]
    },
    {
     "data": {
      "image/png": "[encoded data removed]",
      "text/plain": [
       "<matplotlib.figure.Figure at 0x106114898>"
      ]
     },
     "metadata": {},
     "output_type": "display_data"
    },
    {
     "name": "stdout",
     "output_type": "stream",
     "text": [
      "Prey Results\n",
      "Score:  -77.75231391624116\n"
     ]
    },
    {
     "data": {
      "image/png": "[encoded data removed]",
      "text/plain": [
       "<matplotlib.figure.Figure at 0x105f9f2e8>"
      ]
     },
     "metadata": {},
     "output_type": "display_data"
    },
    {
     "name": "stdout",
     "output_type": "stream",
     "text": [
      "Pred Results\n",
      "Score:  77.75231391624116\n"
     ]
    },
    {
     "data": {
      "image/png": "[encoded data removed]",
      "text/plain": [
       "<matplotlib.figure.Figure at 0x1061d5ac8>"
      ]
     },
     "metadata": {},
     "output_type": "display_data"
    },
    {
     "name": "stdout",
     "output_type": "stream",
     "text": [
      "Prey Results\n",
      "Score:  -18.175642166663295\n"
     ]
    },
    {
     "data": {
      "image/png": "[encoded data removed]",
      "text/plain": [
       "<matplotlib.figure.Figure at 0x106004dd8>"
      ]
     },
     "metadata": {},
     "output_type": "display_data"
    },
    {
     "name": "stdout",
     "output_type": "stream",
     "text": [
      "Pred Results\n",
      "Score:  18.175642166663295\n"
     ]
    },
    {
     "data": {
      "image/png": "[encoded data removed]",
      "text/plain": [
       "<matplotlib.figure.Figure at 0x105bdfda0>"
      ]
     },
     "metadata": {},
     "output_type": "display_data"
    },
    {
     "name": "stdout",
     "output_type": "stream",
     "text": [
      "Prey Results\n",
      "Score:  -42.788908020545826\n"
     ]
    },
    {
     "data": {
      "image/png": "[encoded data removed]",
      "text/plain": [
       "<matplotlib.figure.Figure at 0x1066f4b70>"
      ]
     },
     "metadata": {},
     "output_type": "display_data"
    },
    {
     "name": "stdout",
     "output_type": "stream",
     "text": [
      "Pred Results\n",
      "Score:  42.788908020545826\n"
     ]
    },
    {
     "data": {
      "image/png": "[encoded data removed]",
      "text/plain": [
       "<matplotlib.figure.Figure at 0x101c93438>"
      ]
     },
     "metadata": {},
     "output_type": "display_data"
    },
    {
     "name": "stdout",
     "output_type": "stream",
     "text": [
      "Prey Results\n",
      "Score:  -89.9166009163679\n"
     ]
    },
    {
     "data": {
      "image/png": "[encoded data removed]",
      "text/plain": [
       "<matplotlib.figure.Figure at 0x105c17cf8>"
      ]
     },
     "metadata": {},
     "output_type": "display_data"
    },
    {
     "name": "stdout",
     "output_type": "stream",
     "text": [
      "Pred Results\n",
      "Score:  89.9166009163679\n"
     ]
    },
    {
     "data": {
      "image/png": "[encoded data removed]",
      "text/plain": [
       "<matplotlib.figure.Figure at 0x10659f240>"
      ]
     },
     "metadata": {},
     "output_type": "display_data"
    },
    {
     "name": "stdout",
     "output_type": "stream",
     "text": [
      "Prey Results\n",
      "Score:  -94.59656565013049\n"
     ]
    },
    {
     "data": {
      "image/png": "[encoded data removed]",
      "text/plain": [
       "<matplotlib.figure.Figure at 0x105e9fc88>"
      ]
     },
     "metadata": {},
     "output_type": "display_data"
    },
    {
     "name": "stdout",
     "output_type": "stream",
     "text": [
      "Pred Results\n",
      "Score:  94.59656565013049\n"
     ]
    },
    {
     "data": {
      "image/png": "[encoded data removed]",
      "text/plain": [
       "<matplotlib.figure.Figure at 0x106589dd8>"
      ]
     },
     "metadata": {},
     "output_type": "display_data"
    },
    {
     "name": "stdout",
     "output_type": "stream",
     "text": [
      "Prey Results\n",
      "Score:  -91.65067138293318\n"
     ]
    },
    {
     "data": {
      "image/png": "[encoded data removed]",
      "text/plain": [
       "<matplotlib.figure.Figure at 0x1066506d8>"
      ]
     },
     "metadata": {},
     "output_type": "display_data"
    },
    {
     "name": "stdout",
     "output_type": "stream",
     "text": [
      "Pred Results\n",
      "Score:  91.65067138293318\n"
     ]
    },
    {
     "data": {
      "image/png": "[encoded data removed]",
      "text/plain": [
       "<matplotlib.figure.Figure at 0x106714080>"
      ]
     },
     "metadata": {},
     "output_type": "display_data"
    },
    {
     "name": "stdout",
     "output_type": "stream",
     "text": [
      "Prey Results\n",
      "Score:  -91.2014962111449\n"
     ]
    },
    {
     "data": {
      "image/png": "[encoded data removed]",
      "text/plain": [
       "<matplotlib.figure.Figure at 0x1063979b0>"
      ]
     },
     "metadata": {},
     "output_type": "display_data"
    },
    {
     "name": "stdout",
     "output_type": "stream",
     "text": [
      "Pred Results\n",
      "Score:  91.2014962111449\n"
     ]
    },
    {
     "data": {
      "image/png": "[encoded data removed]",
      "text/plain": [
       "<matplotlib.figure.Figure at 0x1069193c8>"
      ]
     },
     "metadata": {},
     "output_type": "display_data"
    },
    {
     "name": "stdout",
     "output_type": "stream",
     "text": [
      "Prey Results\n",
      "Score:  -20.314410318014694\n"
     ]
    },
    {
     "data": {
      "image/png": "[encoded data removed]",
      "text/plain": [
       "<matplotlib.figure.Figure at 0x1067f87b8>"
      ]
     },
     "metadata": {},
     "output_type": "display_data"
    },
    {
     "name": "stdout",
     "output_type": "stream",
     "text": [
      "Pred Results\n",
      "Score:  20.314410318014694\n"
     ]
    },
    {
     "data": {
      "image/png": "[encoded data removed]",
      "text/plain": [
       "<matplotlib.figure.Figure at 0x105e9e4e0>"
      ]
     },
     "metadata": {},
     "output_type": "display_data"
    },
    {
     "name": "stdout",
     "output_type": "stream",
     "text": [
      "Prey Results\n",
      "Score:  -19.88010632806727\n"
     ]
    },
    {
     "data": {
      "image/png": "[encoded data removed]",
      "text/plain": [
       "<matplotlib.figure.Figure at 0x1061149e8>"
      ]
     },
     "metadata": {},
     "output_type": "display_data"
    },
    {
     "name": "stdout",
     "output_type": "stream",
     "text": [
      "Pred Results\n",
      "Score:  19.88010632806727\n"
     ]
    },
    {
     "data": {
      "image/png": "[encoded data removed]",
      "text/plain": [
       "<matplotlib.figure.Figure at 0x1061ad2e8>"
      ]
     },
     "metadata": {},
     "output_type": "display_data"
    },
    {
     "name": "stdout",
     "output_type": "stream",
     "text": [
      "Prey Results\n",
      "Score:  -20.97908346418367\n"
     ]
    },
    {
     "data": {
      "image/png": "[encoded data removed]",
      "text/plain": [
       "<matplotlib.figure.Figure at 0x105df26d8>"
      ]
     },
     "metadata": {},
     "output_type": "display_data"
    },
    {
     "name": "stdout",
     "output_type": "stream",
     "text": [
      "Pred Results\n",
      "Score:  20.97908346418367\n"
     ]
    },
    {
     "data": {
      "image/png": "[encoded data removed]",
      "text/plain": [
       "<matplotlib.figure.Figure at 0x1064901d0>"
      ]
     },
     "metadata": {},
     "output_type": "display_data"
    },
    {
     "name": "stdout",
     "output_type": "stream",
     "text": [
      "Prey Results\n",
      "Score:  -91.49026324561937\n"
     ]
    },
    {
     "data": {
      "image/png": "[encoded data removed]",
      "text/plain": [
       "<matplotlib.figure.Figure at 0x1060ec5c0>"
      ]
     },
     "metadata": {},
     "output_type": "display_data"
    },
    {
     "name": "stdout",
     "output_type": "stream",
     "text": [
      "Pred Results\n",
      "Score:  91.49026324561937\n"
     ]
    },
    {
     "data": {
      "image/png": "[encoded data removed]",
      "text/plain": [
       "<matplotlib.figure.Figure at 0x1069192e8>"
      ]
     },
     "metadata": {},
     "output_type": "display_data"
    },
    {
     "name": "stdout",
     "output_type": "stream",
     "text": [
      "Prey Results\n",
      "Score:  -7.4412439119948575\n"
     ]
    },
    {
     "data": {
      "image/png": "[encoded data removed]",
      "text/plain": [
       "<matplotlib.figure.Figure at 0x1062315f8>"
      ]
     },
     "metadata": {},
     "output_type": "display_data"
    },
    {
     "name": "stdout",
     "output_type": "stream",
     "text": [
      "Pred Results\n",
      "Score:  7.4412439119948575\n"
     ]
    },
    {
     "data": {
      "image/png": "[encoded data removed]",
      "text/plain": [
       "<matplotlib.figure.Figure at 0x1068082e8>"
      ]
     },
     "metadata": {},
     "output_type": "display_data"
    },
    {
     "name": "stdout",
     "output_type": "stream",
     "text": [
      "Prey Results\n",
      "Score:  -28.883148034106227\n"
     ]
    },
    {
     "data": {
      "image/png": "[encoded data removed]",
      "text/plain": [
       "<matplotlib.figure.Figure at 0x106148dd8>"
      ]
     },
     "metadata": {},
     "output_type": "display_data"
    },
    {
     "name": "stdout",
     "output_type": "stream",
     "text": [
      "Pred Results\n",
      "Score:  28.883148034106227\n"
     ]
    },
    {
     "data": {
      "image/png": "[encoded data removed]",
      "text/plain": [
       "<matplotlib.figure.Figure at 0x105ced438>"
      ]
     },
     "metadata": {},
     "output_type": "display_data"
    },
    {
     "name": "stdout",
     "output_type": "stream",
     "text": [
      "Prey Results\n",
      "Score:  -25.080342521194442\n"
     ]
    },
    {
     "data": {
      "image/png": "[encoded data removed]",
      "text/plain": [
       "<matplotlib.figure.Figure at 0x105fb7748>"
      ]
     },
     "metadata": {},
     "output_type": "display_data"
    },
    {
     "name": "stdout",
     "output_type": "stream",
     "text": [
      "Pred Results\n",
      "Score:  25.080342521194442\n"
     ]
    },
    {
     "data": {
      "image/png": "[encoded data removed]",
      "text/plain": [
       "<matplotlib.figure.Figure at 0x1062197f0>"
      ]
     },
     "metadata": {},
     "output_type": "display_data"
    },
    {
     "name": "stdout",
     "output_type": "stream",
     "text": [
      "Prey Results\n",
      "Score:  -97.55319344892358\n"
     ]
    },
    {
     "data": {
      "image/png": "[encoded data removed]",
      "text/plain": [
       "<matplotlib.figure.Figure at 0x1063e9048>"
      ]
     },
     "metadata": {},
     "output_type": "display_data"
    },
    {
     "name": "stdout",
     "output_type": "stream",
     "text": [
      "Pred Results\n",
      "Score:  97.55319344892358\n"
     ]
    },
    {
     "data": {
      "image/png": "[encoded data removed]",
      "text/plain": [
       "<matplotlib.figure.Figure at 0x106011b38>"
      ]
     },
     "metadata": {},
     "output_type": "display_data"
    },
    {
     "name": "stdout",
     "output_type": "stream",
     "text": [
      "Prey Results\n",
      "Score:  -8.283171618303427\n"
     ]
    },
    {
     "data": {
      "image/png": "[encoded data removed]",
      "text/plain": [
       "<matplotlib.figure.Figure at 0x106231978>"
      ]
     },
     "metadata": {},
     "output_type": "display_data"
    },
    {
     "name": "stdout",
     "output_type": "stream",
     "text": [
      "Pred Results\n",
      "Score:  8.283171618303427\n"
     ]
    },
    {
     "data": {
      "image/png": "[encoded data removed]",
      "text/plain": [
       "<matplotlib.figure.Figure at 0x105e795c0>"
      ]
     },
     "metadata": {},
     "output_type": "display_data"
    },
    {
     "name": "stdout",
     "output_type": "stream",
     "text": [
      "Prey Results\n",
      "Score:  -17.764132323088404\n"
     ]
    },
    {
     "data": {
      "image/png": "[encoded data removed]",
      "text/plain": [
       "<matplotlib.figure.Figure at 0x1067b9898>"
      ]
     },
     "metadata": {},
     "output_type": "display_data"
    },
    {
     "name": "stdout",
     "output_type": "stream",
     "text": [
      "Pred Results\n",
      "Score:  17.764132323088404\n"
     ]
    },
    {
     "data": {
      "image/png": "[encoded data removed]",
      "text/plain": [
       "<matplotlib.figure.Figure at 0x1060180f0>"
      ]
     },
     "metadata": {},
     "output_type": "display_data"
    }
   ],
   "source": [
    "for result in results:\n",
    "    # Output Prey Results\n",
    "    print(\"Prey Results\")\n",
    "    print(\"Score: \", result[2][1])\n",
    "    plt.plot(cos((3*pi)/2), sin((3*pi)/2), 'ro', c=\"red\")    \n",
    "    plt.plot(cos(result[0][0].eye_arclength), sin(result[0][0].eye_arclength), 'ro', c=\"blue\") \n",
    "    plt.plot(cos(result[0][1].eye_arclength), sin(result[0][1].eye_arclength), 'ro', c=\"blue\") \n",
    "    plt.show()\n",
    "    # Output Pred Results\n",
    "    print(\"Pred Results\")\n",
    "    print(\"Score: \", result[2][0])\n",
    "    plt.plot(cos((3*pi)/2), sin((3*pi)/2), 'ro', c=\"red\")    \n",
    "    plt.plot(cos(result[1][0].eye_arclength), sin(result[1][0].eye_arclength), 'ro', c=\"blue\")    \n",
    "    plt.plot(cos(result[1][1].eye_arclength), sin(result[1][1].eye_arclength), 'ro', c=\"blue\")    \n",
    "    plt.show()\n"
   ]
  },
  {
   "cell_type": "code",
   "execution_count": 583,
   "metadata": {},
   "outputs": [
    {
     "data": {
      "text/plain": [
       "3.6658073442180084"
      ]
     },
     "execution_count": 583,
     "metadata": {},
     "output_type": "execute_result"
    }
   ],
   "source": [
    "avg_prey_length = sum([abs(result[0][0].eye_arclength - result[0][1].eye_arclength) for result in results])/len(result)\n",
    "avg_prey_length"
   ]
  },
  {
   "cell_type": "code",
   "execution_count": 584,
   "metadata": {},
   "outputs": [
    {
     "data": {
      "text/plain": [
       "3.0618969517421735"
      ]
     },
     "execution_count": 584,
     "metadata": {},
     "output_type": "execute_result"
    }
   ],
   "source": [
    "avg_pred_length = sum([abs(result[1][0].eye_arclength - result[1][1].eye_arclength) for result in results])/len(result)\n",
    "avg_pred_length"
   ]
  },
  {
   "cell_type": "code",
   "execution_count": null,
   "metadata": {},
   "outputs": [],
   "source": []
  }
 ],
 "metadata": {
  "kernelspec": {
   "display_name": "Python 3",
   "language": "python",
   "name": "python3"
  },
  "language_info": {
   "codemirror_mode": {
    "name": "ipython",
    "version": 3
   },
   "file_extension": ".py",
   "mimetype": "text/x-python",
   "name": "python",
   "nbconvert_exporter": "python",
   "pygments_lexer": "ipython3",
   "version": "3.4.3"
  }
 },
 "nbformat": 4,
 "nbformat_minor": 1
}
